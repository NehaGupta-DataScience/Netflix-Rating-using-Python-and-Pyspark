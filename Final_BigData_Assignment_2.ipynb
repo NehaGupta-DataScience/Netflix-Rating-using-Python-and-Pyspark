{
 "cells": [
  {
   "cell_type": "markdown",
   "id": "6d28e630",
   "metadata": {},
   "source": [
    "# Data Analysis  - Netflix prize data(Big data Taxonomy)\n"
   ]
  },
  {
   "cell_type": "markdown",
   "id": "0f86bfaa",
   "metadata": {},
   "source": [
    "# Inital File Processing"
   ]
  },
  {
   "cell_type": "code",
   "execution_count": 41,
   "id": "7494b8a3",
   "metadata": {},
   "outputs": [],
   "source": [
    "# Importing the necessary libraries and packages.\n",
    "\n",
    "# tracking the computation time\n",
    "from datetime import datetime\n",
    "\n",
    "# processing files from different location of machine\n",
    "import os \n",
    "\n",
    "# for genrating random number and random splitting\n",
    "import random \n",
    "\n",
    "# for arrays and linear algebra\n",
    "import numpy as np \n",
    "\n",
    "# data manipulation and analysis\n",
    "import pandas as pd\n",
    "\n",
    "# importing matplotlib and seaborn plotting graphs for exploratory analysis\n",
    "import matplotlib.pyplot as plt \n",
    "import seaborn as sns\n",
    "\n",
    "# measuring the objects' memory size\n",
    "import sys \n",
    "\n",
    "# warning package for ignoring any warnings during compilation of any code\n",
    "import warnings\n",
    "warnings.filterwarnings(\"ignore\") "
   ]
  },
  {
   "cell_type": "code",
   "execution_count": 42,
   "id": "b5c3d9cb",
   "metadata": {
    "scrolled": false
   },
   "outputs": [
    {
     "name": "stdout",
     "output_type": "stream",
     "text": [
      "reading ratings from /Users/neha/Desktop/Studies Msc Data Analytics/Big Data/Netflix Big Data set/combined_data_1.txt...\n",
      "reading ratings from /Users/neha/Desktop/Studies Msc Data Analytics/Big Data/Netflix Big Data set/combined_data_2.txt...\n",
      "reading ratings from /Users/neha/Desktop/Studies Msc Data Analytics/Big Data/Netflix Big Data set/combined_data_3.txt...\n",
      "reading ratings from /Users/neha/Desktop/Studies Msc Data Analytics/Big Data/Netflix Big Data set/combined_data_4.txt...\n",
      "Done.\n",
      "\n",
      "time taken to write the csv file: 0:01:31.965624\n"
     ]
    }
   ],
   "source": [
    "# Looping through all the four text files to consolidate into one and then saving the same in pandas dataframe.\n",
    "\n",
    "start = datetime.now() # start time of computation\n",
    "if os.path.isfile('/Users/neha/Desktop/Studies Msc Data Analytics/Big Data/Netflix Big Data set/pydata.csv'):\n",
    "    \n",
    "    #read all txt file and store them in one big file in csv format'pydata.csv'\n",
    "    data = open('/Users/neha/Desktop/Studies Msc Data Analytics/Big Data/Netflix Big Data set/pydata.csv', mode='w')\n",
    "    \n",
    "    row = list()\n",
    "    files = ['/Users/neha/Desktop/Studies Msc Data Analytics/Big Data/Netflix Big Data set/combined_data_1.txt'\n",
    "             ,'/Users/neha/Desktop/Studies Msc Data Analytics/Big Data/Netflix Big Data set/combined_data_2.txt',\n",
    "             '/Users/neha/Desktop/Studies Msc Data Analytics/Big Data/Netflix Big Data set/combined_data_3.txt',\n",
    "             '/Users/neha/Desktop/Studies Msc Data Analytics/Big Data/Netflix Big Data set/combined_data_4.txt']\n",
    "    for file in files:\n",
    "        print('reading ratings from {}...'.format(file))\n",
    "        with open(file) as lines:\n",
    "            for line in lines:\n",
    "                line = line.strip()\n",
    "                if line.endswith(':'):\n",
    "                    #all are rating\n",
    "                    movie_id = line.replace(':', '')\n",
    "                else:\n",
    "                    row = [x for x in line.split(',')]\n",
    "                    row.insert(0, movie_id)\n",
    "                    data.write(','.join(row))\n",
    "                    data.write('\\n')\n",
    "    print('Done.\\n')\n",
    "    data.close()\n",
    "print('time taken to write the csv file:', datetime.now() - start) # printing the computation time for processing four rating files."
   ]
  },
  {
   "cell_type": "markdown",
   "id": "9b72a140",
   "metadata": {},
   "source": [
    "Computation Time Note: OS package processed the file in almost 90 seconds."
   ]
  },
  {
   "cell_type": "code",
   "execution_count": 43,
   "id": "5f18ebc3",
   "metadata": {},
   "outputs": [],
   "source": [
    "#Importing the four text files into Pandas dataframe\n",
    "rating_data = pd.read_csv('/Users/neha/Desktop/Studies Msc Data Analytics/Big Data/Netflix Big Data set/pydata.csv', sep=',', names=['movie_id','user_id','rating','date'])\n",
    "\n",
    "# converting date column in data time format\n",
    "rating_data.date = pd.to_datetime(rating_data.date)"
   ]
  },
  {
   "cell_type": "code",
   "execution_count": 44,
   "id": "1c5fa938",
   "metadata": {},
   "outputs": [],
   "source": [
    "#Importing the movie_titles csv file into Pandas dataframe\n",
    "movie_titles = pd.read_csv('/Users/neha/Desktop/Studies Msc Data Analytics/Big Data/Netflix Big Data set/movie_titles.csv', sep=',', names=['movie_id', 'release_year', 'movie_title',])"
   ]
  },
  {
   "cell_type": "markdown",
   "id": "380bed97",
   "metadata": {},
   "source": [
    "# Pre-processing the Data"
   ]
  },
  {
   "cell_type": "code",
   "execution_count": 45,
   "id": "0a9c9e8c",
   "metadata": {},
   "outputs": [
    {
     "data": {
      "text/html": [
       "<div>\n",
       "<style scoped>\n",
       "    .dataframe tbody tr th:only-of-type {\n",
       "        vertical-align: middle;\n",
       "    }\n",
       "\n",
       "    .dataframe tbody tr th {\n",
       "        vertical-align: top;\n",
       "    }\n",
       "\n",
       "    .dataframe thead th {\n",
       "        text-align: right;\n",
       "    }\n",
       "</style>\n",
       "<table border=\"1\" class=\"dataframe\">\n",
       "  <thead>\n",
       "    <tr style=\"text-align: right;\">\n",
       "      <th></th>\n",
       "      <th>movie_id</th>\n",
       "      <th>release_year</th>\n",
       "      <th>movie_title</th>\n",
       "    </tr>\n",
       "  </thead>\n",
       "  <tbody>\n",
       "    <tr>\n",
       "      <th>4387</th>\n",
       "      <td>4388</td>\n",
       "      <td>NaN</td>\n",
       "      <td>Ancient Civilizations: Rome and Pompeii</td>\n",
       "    </tr>\n",
       "    <tr>\n",
       "      <th>4793</th>\n",
       "      <td>4794</td>\n",
       "      <td>NaN</td>\n",
       "      <td>Ancient Civilizations: Land of the Pharaohs</td>\n",
       "    </tr>\n",
       "    <tr>\n",
       "      <th>7240</th>\n",
       "      <td>7241</td>\n",
       "      <td>NaN</td>\n",
       "      <td>Ancient Civilizations: Athens and Greece</td>\n",
       "    </tr>\n",
       "    <tr>\n",
       "      <th>10781</th>\n",
       "      <td>10782</td>\n",
       "      <td>NaN</td>\n",
       "      <td>Roti Kapada Aur Makaan</td>\n",
       "    </tr>\n",
       "    <tr>\n",
       "      <th>15917</th>\n",
       "      <td>15918</td>\n",
       "      <td>NaN</td>\n",
       "      <td>Hote Hote Pyaar Ho Gaya</td>\n",
       "    </tr>\n",
       "    <tr>\n",
       "      <th>16677</th>\n",
       "      <td>16678</td>\n",
       "      <td>NaN</td>\n",
       "      <td>Jimmy Hollywood</td>\n",
       "    </tr>\n",
       "    <tr>\n",
       "      <th>17666</th>\n",
       "      <td>17667</td>\n",
       "      <td>NaN</td>\n",
       "      <td>Eros Dance Dhamaka</td>\n",
       "    </tr>\n",
       "  </tbody>\n",
       "</table>\n",
       "</div>"
      ],
      "text/plain": [
       "       movie_id  release_year                                  movie_title\n",
       "4387       4388           NaN      Ancient Civilizations: Rome and Pompeii\n",
       "4793       4794           NaN  Ancient Civilizations: Land of the Pharaohs\n",
       "7240       7241           NaN     Ancient Civilizations: Athens and Greece\n",
       "10781     10782           NaN                       Roti Kapada Aur Makaan\n",
       "15917     15918           NaN                      Hote Hote Pyaar Ho Gaya\n",
       "16677     16678           NaN                              Jimmy Hollywood\n",
       "17666     17667           NaN                           Eros Dance Dhamaka"
      ]
     },
     "execution_count": 45,
     "metadata": {},
     "output_type": "execute_result"
    }
   ],
   "source": [
    "#Checking Missing values on movie title dataset\n",
    "movie_titles[pd.isnull(movie_titles).any(axis=1)]"
   ]
  },
  {
   "cell_type": "markdown",
   "id": "791cd555",
   "metadata": {},
   "source": [
    "There are 7 records missing for 'release_year'. Filling the release year manually with the values as available on IMDB.\n",
    "Source IMDB:\n",
    "Ancient Civilizations: Rome and Pompeii - 2001 \n",
    "Ancient Civilizations: Land of the Pharaohs - 2001 \n",
    "Ancient Civilizations: Athens and Greece - 2001 \n",
    "Roti Kapada Aur Makaan - 1974\n",
    "Hote Hote Pyaar Ho Gaya - 1999 \n",
    "Jimmy Hollywood -1994 \n",
    "Eros Dance Dhamaka -1999 \n",
    "Now filling the year column and try to remove all the null values"
   ]
  },
  {
   "cell_type": "code",
   "execution_count": 46,
   "id": "d595bc15",
   "metadata": {},
   "outputs": [],
   "source": [
    "movie_titles.at[4387,'release_year'] = 2001\n",
    "movie_titles.at[4793,'release_year'] = 2001\n",
    "movie_titles.at[7240,'release_year'] = 2001\n",
    "movie_titles.at[10781,'release_year'] = 1974\n",
    "movie_titles.at[15917,'release_year'] = 1999\n",
    "movie_titles.at[16677,'release_year'] = 1994\n",
    "movie_titles.at[17666,'release_year'] = 1999"
   ]
  },
  {
   "cell_type": "code",
   "execution_count": 47,
   "id": "b53b7e4a",
   "metadata": {
    "scrolled": false
   },
   "outputs": [
    {
     "name": "stdout",
     "output_type": "stream",
     "text": [
      "<class 'pandas.core.frame.DataFrame'>\n",
      "RangeIndex: 17770 entries, 0 to 17769\n",
      "Data columns (total 3 columns):\n",
      " #   Column        Non-Null Count  Dtype \n",
      "---  ------        --------------  ----- \n",
      " 0   movie_id      17770 non-null  int64 \n",
      " 1   release_year  17770 non-null  int64 \n",
      " 2   movie_title   17770 non-null  object\n",
      "dtypes: int64(2), object(1)\n",
      "memory usage: 416.6+ KB\n"
     ]
    }
   ],
   "source": [
    "# converting release_year(float) to integer\n",
    "movie_titles['release_year'] = movie_titles['release_year'].astype(int)\n",
    "movie_titles.info()"
   ]
  },
  {
   "cell_type": "markdown",
   "id": "c9521059",
   "metadata": {},
   "source": [
    "Comment:  There are no missing values remaining in the dataset. The movie_titles seems to be a small files of just 17700 movies. It consists of the just three columns 2 being integers(movie_id and release_year) and one object type (movie_titles). Also, the memory usage is just 417 KB."
   ]
  },
  {
   "cell_type": "code",
   "execution_count": 48,
   "id": "069a20aa",
   "metadata": {
    "scrolled": true
   },
   "outputs": [
    {
     "name": "stdout",
     "output_type": "stream",
     "text": [
      "time taken to obtain the final big file: 0:00:13.943253\n",
      "Memory size of netflix combined file is  11427784778\n"
     ]
    }
   ],
   "source": [
    "# Merging the rating dataset(df) and the movie_titles on common unique column move_id.\n",
    "start = datetime.now()  #start time of computation\n",
    "\n",
    "netflix_dataset= rating_data.join(movie_titles.set_index('movie_id'), on='movie_id')\n",
    "print('time taken to obtain the final big file:', datetime.now() - start) # printing the computation time\n",
    "print(\"Memory size of netflix combined file is \", sys.getsizeof(netflix_dataset))\n"
   ]
  },
  {
   "cell_type": "markdown",
   "id": "06be3aef",
   "metadata": {},
   "source": [
    "Computation Time and Memory Size: The final combined file took 14 seconds to compute and the memory size is 11.5 GB which is significantly large."
   ]
  },
  {
   "cell_type": "markdown",
   "id": "2354563b",
   "metadata": {},
   "source": [
    "# Understanding the Dataset"
   ]
  },
  {
   "cell_type": "code",
   "execution_count": 25,
   "id": "de983fe1",
   "metadata": {},
   "outputs": [
    {
     "name": "stdout",
     "output_type": "stream",
     "text": [
      "<class 'pandas.core.frame.DataFrame'>\n",
      "RangeIndex: 100480507 entries, 0 to 100480506\n",
      "Data columns (total 6 columns):\n",
      " #   Column        Dtype         \n",
      "---  ------        -----         \n",
      " 0   movie_id      int64         \n",
      " 1   user_id       int64         \n",
      " 2   rating        int64         \n",
      " 3   date          datetime64[ns]\n",
      " 4   release_year  int64         \n",
      " 5   movie_title   object        \n",
      "dtypes: datetime64[ns](1), int64(4), object(1)\n",
      "memory usage: 4.5+ GB\n"
     ]
    }
   ],
   "source": [
    "netflix_dataset.info() #to know the basic information of the dataset"
   ]
  },
  {
   "cell_type": "code",
   "execution_count": 26,
   "id": "ea024634",
   "metadata": {},
   "outputs": [
    {
     "name": "stdout",
     "output_type": "stream",
     "text": [
      "<class 'pandas.core.frame.DataFrame'>\n",
      "RangeIndex: 100480507 entries, 0 to 100480506\n",
      "Data columns (total 6 columns):\n",
      " #   Column        Dtype         \n",
      "---  ------        -----         \n",
      " 0   movie_id      int64         \n",
      " 1   user_id       int64         \n",
      " 2   rating        int64         \n",
      " 3   date          datetime64[ns]\n",
      " 4   release_year  int64         \n",
      " 5   movie_title   object        \n",
      "dtypes: datetime64[ns](1), int64(4), object(1)\n",
      "memory usage: 10.6 GB\n"
     ]
    }
   ],
   "source": [
    "netflix_dataset.info(memory_usage='deep') #to know the detailed information of the dataset."
   ]
  },
  {
   "cell_type": "markdown",
   "id": "c4f93bba",
   "metadata": {},
   "source": [
    "Netflix Dataset facts: There are 100480507 rows and 6 columns. The columns names are movie_id, user_id, rating, date release_year and movie_titles. The date (date format) here is the rating date of a particular movie."
   ]
  },
  {
   "cell_type": "code",
   "execution_count": 27,
   "id": "a4279dd8",
   "metadata": {
    "scrolled": true
   },
   "outputs": [
    {
     "data": {
      "text/html": [
       "<div>\n",
       "<style scoped>\n",
       "    .dataframe tbody tr th:only-of-type {\n",
       "        vertical-align: middle;\n",
       "    }\n",
       "\n",
       "    .dataframe tbody tr th {\n",
       "        vertical-align: top;\n",
       "    }\n",
       "\n",
       "    .dataframe thead th {\n",
       "        text-align: right;\n",
       "    }\n",
       "</style>\n",
       "<table border=\"1\" class=\"dataframe\">\n",
       "  <thead>\n",
       "    <tr style=\"text-align: right;\">\n",
       "      <th></th>\n",
       "      <th>movie_id</th>\n",
       "      <th>user_id</th>\n",
       "      <th>rating</th>\n",
       "      <th>date</th>\n",
       "      <th>release_year</th>\n",
       "      <th>movie_title</th>\n",
       "    </tr>\n",
       "  </thead>\n",
       "  <tbody>\n",
       "    <tr>\n",
       "      <th>0</th>\n",
       "      <td>1</td>\n",
       "      <td>1488844</td>\n",
       "      <td>3</td>\n",
       "      <td>2005-09-06</td>\n",
       "      <td>2003</td>\n",
       "      <td>Dinosaur Planet</td>\n",
       "    </tr>\n",
       "    <tr>\n",
       "      <th>1</th>\n",
       "      <td>1</td>\n",
       "      <td>822109</td>\n",
       "      <td>5</td>\n",
       "      <td>2005-05-13</td>\n",
       "      <td>2003</td>\n",
       "      <td>Dinosaur Planet</td>\n",
       "    </tr>\n",
       "    <tr>\n",
       "      <th>2</th>\n",
       "      <td>1</td>\n",
       "      <td>885013</td>\n",
       "      <td>4</td>\n",
       "      <td>2005-10-19</td>\n",
       "      <td>2003</td>\n",
       "      <td>Dinosaur Planet</td>\n",
       "    </tr>\n",
       "    <tr>\n",
       "      <th>3</th>\n",
       "      <td>1</td>\n",
       "      <td>30878</td>\n",
       "      <td>4</td>\n",
       "      <td>2005-12-26</td>\n",
       "      <td>2003</td>\n",
       "      <td>Dinosaur Planet</td>\n",
       "    </tr>\n",
       "    <tr>\n",
       "      <th>4</th>\n",
       "      <td>1</td>\n",
       "      <td>823519</td>\n",
       "      <td>3</td>\n",
       "      <td>2004-05-03</td>\n",
       "      <td>2003</td>\n",
       "      <td>Dinosaur Planet</td>\n",
       "    </tr>\n",
       "  </tbody>\n",
       "</table>\n",
       "</div>"
      ],
      "text/plain": [
       "   movie_id  user_id  rating       date  release_year      movie_title\n",
       "0         1  1488844       3 2005-09-06          2003  Dinosaur Planet\n",
       "1         1   822109       5 2005-05-13          2003  Dinosaur Planet\n",
       "2         1   885013       4 2005-10-19          2003  Dinosaur Planet\n",
       "3         1    30878       4 2005-12-26          2003  Dinosaur Planet\n",
       "4         1   823519       3 2004-05-03          2003  Dinosaur Planet"
      ]
     },
     "execution_count": 27,
     "metadata": {},
     "output_type": "execute_result"
    }
   ],
   "source": [
    "netflix_dataset.head() # to know the head of the dataset"
   ]
  },
  {
   "cell_type": "code",
   "execution_count": 10,
   "id": "9edbae67",
   "metadata": {},
   "outputs": [
    {
     "data": {
      "text/html": [
       "<div>\n",
       "<style scoped>\n",
       "    .dataframe tbody tr th:only-of-type {\n",
       "        vertical-align: middle;\n",
       "    }\n",
       "\n",
       "    .dataframe tbody tr th {\n",
       "        vertical-align: top;\n",
       "    }\n",
       "\n",
       "    .dataframe thead th {\n",
       "        text-align: right;\n",
       "    }\n",
       "</style>\n",
       "<table border=\"1\" class=\"dataframe\">\n",
       "  <thead>\n",
       "    <tr style=\"text-align: right;\">\n",
       "      <th></th>\n",
       "      <th>movie_id</th>\n",
       "      <th>user_id</th>\n",
       "      <th>rating</th>\n",
       "      <th>date</th>\n",
       "      <th>release_year</th>\n",
       "      <th>movie_title</th>\n",
       "    </tr>\n",
       "  </thead>\n",
       "  <tbody>\n",
       "    <tr>\n",
       "      <th>100480502</th>\n",
       "      <td>17770</td>\n",
       "      <td>1790158</td>\n",
       "      <td>4</td>\n",
       "      <td>2005-11-01</td>\n",
       "      <td>2003</td>\n",
       "      <td>Alien Hunter</td>\n",
       "    </tr>\n",
       "    <tr>\n",
       "      <th>100480503</th>\n",
       "      <td>17770</td>\n",
       "      <td>1608708</td>\n",
       "      <td>3</td>\n",
       "      <td>2005-07-19</td>\n",
       "      <td>2003</td>\n",
       "      <td>Alien Hunter</td>\n",
       "    </tr>\n",
       "    <tr>\n",
       "      <th>100480504</th>\n",
       "      <td>17770</td>\n",
       "      <td>234275</td>\n",
       "      <td>1</td>\n",
       "      <td>2004-08-07</td>\n",
       "      <td>2003</td>\n",
       "      <td>Alien Hunter</td>\n",
       "    </tr>\n",
       "    <tr>\n",
       "      <th>100480505</th>\n",
       "      <td>17770</td>\n",
       "      <td>255278</td>\n",
       "      <td>4</td>\n",
       "      <td>2004-05-28</td>\n",
       "      <td>2003</td>\n",
       "      <td>Alien Hunter</td>\n",
       "    </tr>\n",
       "    <tr>\n",
       "      <th>100480506</th>\n",
       "      <td>17770</td>\n",
       "      <td>453585</td>\n",
       "      <td>2</td>\n",
       "      <td>2005-03-10</td>\n",
       "      <td>2003</td>\n",
       "      <td>Alien Hunter</td>\n",
       "    </tr>\n",
       "  </tbody>\n",
       "</table>\n",
       "</div>"
      ],
      "text/plain": [
       "           movie_id  user_id  rating       date  release_year   movie_title\n",
       "100480502     17770  1790158       4 2005-11-01          2003  Alien Hunter\n",
       "100480503     17770  1608708       3 2005-07-19          2003  Alien Hunter\n",
       "100480504     17770   234275       1 2004-08-07          2003  Alien Hunter\n",
       "100480505     17770   255278       4 2004-05-28          2003  Alien Hunter\n",
       "100480506     17770   453585       2 2005-03-10          2003  Alien Hunter"
      ]
     },
     "execution_count": 10,
     "metadata": {},
     "output_type": "execute_result"
    }
   ],
   "source": [
    "netflix_dataset.tail() # to know the tail of the dataset"
   ]
  },
  {
   "cell_type": "code",
   "execution_count": 11,
   "id": "20574e4f",
   "metadata": {},
   "outputs": [
    {
     "data": {
      "text/html": [
       "<div>\n",
       "<style scoped>\n",
       "    .dataframe tbody tr th:only-of-type {\n",
       "        vertical-align: middle;\n",
       "    }\n",
       "\n",
       "    .dataframe tbody tr th {\n",
       "        vertical-align: top;\n",
       "    }\n",
       "\n",
       "    .dataframe thead th {\n",
       "        text-align: right;\n",
       "    }\n",
       "</style>\n",
       "<table border=\"1\" class=\"dataframe\">\n",
       "  <thead>\n",
       "    <tr style=\"text-align: right;\">\n",
       "      <th></th>\n",
       "      <th>movie_id</th>\n",
       "      <th>user_id</th>\n",
       "      <th>rating</th>\n",
       "      <th>release_year</th>\n",
       "    </tr>\n",
       "  </thead>\n",
       "  <tbody>\n",
       "    <tr>\n",
       "      <th>count</th>\n",
       "      <td>1.004805e+08</td>\n",
       "      <td>1.004805e+08</td>\n",
       "      <td>1.004805e+08</td>\n",
       "      <td>1.004805e+08</td>\n",
       "    </tr>\n",
       "    <tr>\n",
       "      <th>mean</th>\n",
       "      <td>9.070915e+03</td>\n",
       "      <td>1.322489e+06</td>\n",
       "      <td>3.604290e+00</td>\n",
       "      <td>1.993912e+03</td>\n",
       "    </tr>\n",
       "    <tr>\n",
       "      <th>std</th>\n",
       "      <td>5.131891e+03</td>\n",
       "      <td>7.645368e+05</td>\n",
       "      <td>1.085219e+00</td>\n",
       "      <td>1.240080e+01</td>\n",
       "    </tr>\n",
       "    <tr>\n",
       "      <th>min</th>\n",
       "      <td>1.000000e+00</td>\n",
       "      <td>6.000000e+00</td>\n",
       "      <td>1.000000e+00</td>\n",
       "      <td>1.896000e+03</td>\n",
       "    </tr>\n",
       "    <tr>\n",
       "      <th>25%</th>\n",
       "      <td>4.677000e+03</td>\n",
       "      <td>6.611980e+05</td>\n",
       "      <td>3.000000e+00</td>\n",
       "      <td>1.990000e+03</td>\n",
       "    </tr>\n",
       "    <tr>\n",
       "      <th>50%</th>\n",
       "      <td>9.051000e+03</td>\n",
       "      <td>1.319012e+06</td>\n",
       "      <td>4.000000e+00</td>\n",
       "      <td>1.998000e+03</td>\n",
       "    </tr>\n",
       "    <tr>\n",
       "      <th>75%</th>\n",
       "      <td>1.363500e+04</td>\n",
       "      <td>1.984455e+06</td>\n",
       "      <td>4.000000e+00</td>\n",
       "      <td>2.002000e+03</td>\n",
       "    </tr>\n",
       "    <tr>\n",
       "      <th>max</th>\n",
       "      <td>1.777000e+04</td>\n",
       "      <td>2.649429e+06</td>\n",
       "      <td>5.000000e+00</td>\n",
       "      <td>2.005000e+03</td>\n",
       "    </tr>\n",
       "  </tbody>\n",
       "</table>\n",
       "</div>"
      ],
      "text/plain": [
       "           movie_id       user_id        rating  release_year\n",
       "count  1.004805e+08  1.004805e+08  1.004805e+08  1.004805e+08\n",
       "mean   9.070915e+03  1.322489e+06  3.604290e+00  1.993912e+03\n",
       "std    5.131891e+03  7.645368e+05  1.085219e+00  1.240080e+01\n",
       "min    1.000000e+00  6.000000e+00  1.000000e+00  1.896000e+03\n",
       "25%    4.677000e+03  6.611980e+05  3.000000e+00  1.990000e+03\n",
       "50%    9.051000e+03  1.319012e+06  4.000000e+00  1.998000e+03\n",
       "75%    1.363500e+04  1.984455e+06  4.000000e+00  2.002000e+03\n",
       "max    1.777000e+04  2.649429e+06  5.000000e+00  2.005000e+03"
      ]
     },
     "execution_count": 11,
     "metadata": {},
     "output_type": "execute_result"
    }
   ],
   "source": [
    "netflix_dataset.describe() # statistical information of the numerical columns"
   ]
  },
  {
   "cell_type": "markdown",
   "id": "cfb121f3",
   "metadata": {},
   "source": [
    "# Exploratory Data Analysis"
   ]
  },
  {
   "cell_type": "markdown",
   "id": "f192ea53",
   "metadata": {},
   "source": [
    "### Visualization"
   ]
  },
  {
   "cell_type": "code",
   "execution_count": 20,
   "id": "f5b9fcfe",
   "metadata": {},
   "outputs": [
    {
     "data": {
      "image/png": "[encoded data removed]",
      "text/plain": [
       "<Figure size 432x288 with 1 Axes>"
      ]
     },
     "metadata": {
      "needs_background": "light"
     },
     "output_type": "display_data"
    }
   ],
   "source": [
    "# Distribution of Rating over the dataset\n",
    "fig, ax = plt.subplots()\n",
    "plt.title('Distribution of Rating over Netflix Dataset', fontsize=10)\n",
    "sns.countplot(netflix_dataset.rating)\n",
    "ax.set_ylabel('No. of Ratings (Millions)')\n",
    "plt.show()"
   ]
  },
  {
   "cell_type": "markdown",
   "id": "c8c2b521",
   "metadata": {},
   "source": [
    "Analytical Comment: Users generally give rating '4' do the movie and users hardly give a lower rating of 1 and 2. There might be possiblity that the viewers who donot like a movie just avoid viewing that  completely and not prefer to rate them."
   ]
  },
  {
   "cell_type": "markdown",
   "id": "7652c5a5",
   "metadata": {},
   "source": [
    "Analytical Comment: There is a tremendous growth of Netflix in 2003-2006. There are about 1 million ratings of the movie by the end of 2005 and there is steep fall after 2005."
   ]
  },
  {
   "cell_type": "code",
   "execution_count": 49,
   "id": "7d884b56",
   "metadata": {
    "scrolled": true
   },
   "outputs": [
    {
     "data": {
      "image/png": "[encoded data removed]",
      "text/plain": [
       "<Figure size 432x288 with 1 Axes>"
      ]
     },
     "metadata": {
      "needs_background": "light"
     },
     "output_type": "display_data"
    }
   ],
   "source": [
    "# Six year Monthly analysis of the date column against rating\n",
    "\n",
    "netflix_dataset[\"date\"] = pd.to_datetime(netflix_dataset[\"date\"])\n",
    "\n",
    "#month extract\n",
    "netflix_dataset[\"month\"] = netflix_dataset[\"date\"].dt.month\n",
    "\n",
    "# creating new dataframe on mean of rating and month \n",
    "new_netflix = netflix_dataset.groupby([\"month\"], as_index=False)[\"rating\"].mean()\n",
    "\n",
    "#creating month dictionary\n",
    "month_map = {1: \"Jan\", 2: \"Feb\", 3: \"Mar\", 4: \"Apr\", 5: \"May\", 6: \"Jun\", 7: \"Jul\", 8:\"Aug\", 9: \"Sep\", 10: \"Oct\", 11: \"Nov\", 12: \"Dec\"}\n",
    "\n",
    "# replacing month with month dictionery\n",
    "new_netflix.month.replace(month_map,inplace=True)\n",
    "new_netflix = new_netflix.set_index(\"month\")\n",
    "\n",
    "# Line plot for the monthly trend\n",
    "ax = new_netflix.plot()\n",
    "ax.set_title('No. of Ratings per month (Netflix Data)')\n",
    "plt.xlabel('Month')\n",
    "plt.ylabel('No. of Rating per month(in Millions)')\n",
    "plt.show()"
   ]
  },
  {
   "cell_type": "markdown",
   "id": "e1d27d29",
   "metadata": {},
   "source": [
    "Critical Comment: The viewers frequently rate the movie in the month of the October and the lowest in the month of January. There might be likely hood of people going on holidays and less concentrating on watching movies."
   ]
  },
  {
   "cell_type": "markdown",
   "id": "f17de15c",
   "metadata": {},
   "source": [
    "### Comparative analysis with rating column"
   ]
  },
  {
   "cell_type": "code",
   "execution_count": 15,
   "id": "ddb97bd0",
   "metadata": {},
   "outputs": [],
   "source": [
    "# movies with the ratings more than 4 or more.\n",
    "rating_4 = netflix_dataset[netflix_dataset['rating'] >= 4]\n"
   ]
  },
  {
   "cell_type": "code",
   "execution_count": 22,
   "id": "f7d37319",
   "metadata": {
    "scrolled": false
   },
   "outputs": [
    {
     "data": {
      "image/png": "[encoded data removed]",
      "text/plain": [
       "<Figure size 432x288 with 1 Axes>"
      ]
     },
     "metadata": {
      "needs_background": "light"
     },
     "output_type": "display_data"
    }
   ],
   "source": [
    "# Distribution of movies with the rating 4 or more.\n",
    "plt.hist(rating_4['movie_id'], bins=100, color='blue')\n",
    "plt.xlabel('Movies')\n",
    "plt.ylabel('Count')\n",
    "plt.title('Histogram for Movies Count rating is more than or equal to 4.')\n",
    "plt.show()"
   ]
  },
  {
   "cell_type": "code",
   "execution_count": 16,
   "id": "f70bf86b",
   "metadata": {
    "scrolled": true
   },
   "outputs": [
    {
     "data": {
      "text/html": [
       "<div>\n",
       "<style scoped>\n",
       "    .dataframe tbody tr th:only-of-type {\n",
       "        vertical-align: middle;\n",
       "    }\n",
       "\n",
       "    .dataframe tbody tr th {\n",
       "        vertical-align: top;\n",
       "    }\n",
       "\n",
       "    .dataframe thead th {\n",
       "        text-align: right;\n",
       "    }\n",
       "</style>\n",
       "<table border=\"1\" class=\"dataframe\">\n",
       "  <thead>\n",
       "    <tr style=\"text-align: right;\">\n",
       "      <th></th>\n",
       "      <th>movie_id</th>\n",
       "      <th>user_id</th>\n",
       "      <th>rating</th>\n",
       "      <th>date</th>\n",
       "      <th>release_year</th>\n",
       "      <th>movie_title</th>\n",
       "    </tr>\n",
       "  </thead>\n",
       "  <tbody>\n",
       "    <tr>\n",
       "      <th>1</th>\n",
       "      <td>1</td>\n",
       "      <td>822109</td>\n",
       "      <td>5</td>\n",
       "      <td>2005-05-13</td>\n",
       "      <td>2003</td>\n",
       "      <td>Dinosaur Planet</td>\n",
       "    </tr>\n",
       "    <tr>\n",
       "      <th>2</th>\n",
       "      <td>1</td>\n",
       "      <td>885013</td>\n",
       "      <td>4</td>\n",
       "      <td>2005-10-19</td>\n",
       "      <td>2003</td>\n",
       "      <td>Dinosaur Planet</td>\n",
       "    </tr>\n",
       "    <tr>\n",
       "      <th>3</th>\n",
       "      <td>1</td>\n",
       "      <td>30878</td>\n",
       "      <td>4</td>\n",
       "      <td>2005-12-26</td>\n",
       "      <td>2003</td>\n",
       "      <td>Dinosaur Planet</td>\n",
       "    </tr>\n",
       "    <tr>\n",
       "      <th>6</th>\n",
       "      <td>1</td>\n",
       "      <td>124105</td>\n",
       "      <td>4</td>\n",
       "      <td>2004-08-05</td>\n",
       "      <td>2003</td>\n",
       "      <td>Dinosaur Planet</td>\n",
       "    </tr>\n",
       "    <tr>\n",
       "      <th>8</th>\n",
       "      <td>1</td>\n",
       "      <td>1842128</td>\n",
       "      <td>4</td>\n",
       "      <td>2004-05-09</td>\n",
       "      <td>2003</td>\n",
       "      <td>Dinosaur Planet</td>\n",
       "    </tr>\n",
       "    <tr>\n",
       "      <th>...</th>\n",
       "      <td>...</td>\n",
       "      <td>...</td>\n",
       "      <td>...</td>\n",
       "      <td>...</td>\n",
       "      <td>...</td>\n",
       "      <td>...</td>\n",
       "    </tr>\n",
       "    <tr>\n",
       "      <th>100480495</th>\n",
       "      <td>17770</td>\n",
       "      <td>1274035</td>\n",
       "      <td>4</td>\n",
       "      <td>2005-06-10</td>\n",
       "      <td>2003</td>\n",
       "      <td>Alien Hunter</td>\n",
       "    </tr>\n",
       "    <tr>\n",
       "      <th>100480498</th>\n",
       "      <td>17770</td>\n",
       "      <td>516110</td>\n",
       "      <td>5</td>\n",
       "      <td>2004-08-26</td>\n",
       "      <td>2003</td>\n",
       "      <td>Alien Hunter</td>\n",
       "    </tr>\n",
       "    <tr>\n",
       "      <th>100480500</th>\n",
       "      <td>17770</td>\n",
       "      <td>986348</td>\n",
       "      <td>4</td>\n",
       "      <td>2004-08-12</td>\n",
       "      <td>2003</td>\n",
       "      <td>Alien Hunter</td>\n",
       "    </tr>\n",
       "    <tr>\n",
       "      <th>100480502</th>\n",
       "      <td>17770</td>\n",
       "      <td>1790158</td>\n",
       "      <td>4</td>\n",
       "      <td>2005-11-01</td>\n",
       "      <td>2003</td>\n",
       "      <td>Alien Hunter</td>\n",
       "    </tr>\n",
       "    <tr>\n",
       "      <th>100480505</th>\n",
       "      <td>17770</td>\n",
       "      <td>255278</td>\n",
       "      <td>4</td>\n",
       "      <td>2004-05-28</td>\n",
       "      <td>2003</td>\n",
       "      <td>Alien Hunter</td>\n",
       "    </tr>\n",
       "  </tbody>\n",
       "</table>\n",
       "<p>56919190 rows × 6 columns</p>\n",
       "</div>"
      ],
      "text/plain": [
       "           movie_id  user_id  rating       date  release_year      movie_title\n",
       "1                 1   822109       5 2005-05-13          2003  Dinosaur Planet\n",
       "2                 1   885013       4 2005-10-19          2003  Dinosaur Planet\n",
       "3                 1    30878       4 2005-12-26          2003  Dinosaur Planet\n",
       "6                 1   124105       4 2004-08-05          2003  Dinosaur Planet\n",
       "8                 1  1842128       4 2004-05-09          2003  Dinosaur Planet\n",
       "...             ...      ...     ...        ...           ...              ...\n",
       "100480495     17770  1274035       4 2005-06-10          2003     Alien Hunter\n",
       "100480498     17770   516110       5 2004-08-26          2003     Alien Hunter\n",
       "100480500     17770   986348       4 2004-08-12          2003     Alien Hunter\n",
       "100480502     17770  1790158       4 2005-11-01          2003     Alien Hunter\n",
       "100480505     17770   255278       4 2004-05-28          2003     Alien Hunter\n",
       "\n",
       "[56919190 rows x 6 columns]"
      ]
     },
     "execution_count": 16,
     "metadata": {},
     "output_type": "execute_result"
    }
   ],
   "source": [
    "rating_4"
   ]
  },
  {
   "cell_type": "markdown",
   "id": "210cc049",
   "metadata": {},
   "source": [
    "There are 56.9 millions instances where the rating is 4 or 5."
   ]
  },
  {
   "cell_type": "code",
   "execution_count": 28,
   "id": "2fac0c20",
   "metadata": {},
   "outputs": [
    {
     "name": "stdout",
     "output_type": "stream",
     "text": [
      "There are 56.65% of the movies which are highly rated\n"
     ]
    }
   ],
   "source": [
    "high_rated_movie = round(len(rating_4['movie_id'])/len(netflix_dataset['movie_id'])* 100, 2)\n",
    "\n",
    "print(f\"There are {high_rated_movie}% of the movies which are highly rated\")"
   ]
  },
  {
   "cell_type": "code",
   "execution_count": 23,
   "id": "1942aad5",
   "metadata": {
    "scrolled": false
   },
   "outputs": [
    {
     "data": {
      "image/png": "[encoded data removed]",
      "text/plain": [
       "<Figure size 432x288 with 1 Axes>"
      ]
     },
     "metadata": {
      "needs_background": "light"
     },
     "output_type": "display_data"
    }
   ],
   "source": [
    "# movies with the ratings 2 or less.\n",
    "rating_2 = netflix_dataset[netflix_dataset['rating'] <= 2]\n",
    "\n",
    "# Distribution of movies with the rating 2 or less.\n",
    "plt.hist(rating_2['movie_id'], bins=100, color='blue')\n",
    "plt.xlabel('Movies')\n",
    "plt.ylabel('Count')\n",
    "plt.title('Histogram for Movies Count with the ratings less than  or equal to 2')\n",
    "plt.show()"
   ]
  },
  {
   "cell_type": "code",
   "execution_count": 37,
   "id": "7e78206b",
   "metadata": {
    "scrolled": true
   },
   "outputs": [
    {
     "data": {
      "text/html": [
       "<div>\n",
       "<style scoped>\n",
       "    .dataframe tbody tr th:only-of-type {\n",
       "        vertical-align: middle;\n",
       "    }\n",
       "\n",
       "    .dataframe tbody tr th {\n",
       "        vertical-align: top;\n",
       "    }\n",
       "\n",
       "    .dataframe thead th {\n",
       "        text-align: right;\n",
       "    }\n",
       "</style>\n",
       "<table border=\"1\" class=\"dataframe\">\n",
       "  <thead>\n",
       "    <tr style=\"text-align: right;\">\n",
       "      <th></th>\n",
       "      <th>movie_id</th>\n",
       "      <th>user_id</th>\n",
       "      <th>rating</th>\n",
       "      <th>date</th>\n",
       "      <th>release_year</th>\n",
       "      <th>movie_title</th>\n",
       "    </tr>\n",
       "  </thead>\n",
       "  <tbody>\n",
       "    <tr>\n",
       "      <th>36</th>\n",
       "      <td>1</td>\n",
       "      <td>525356</td>\n",
       "      <td>2</td>\n",
       "      <td>2004-07-11</td>\n",
       "      <td>2003.0</td>\n",
       "      <td>Dinosaur Planet</td>\n",
       "    </tr>\n",
       "    <tr>\n",
       "      <th>39</th>\n",
       "      <td>1</td>\n",
       "      <td>2421815</td>\n",
       "      <td>2</td>\n",
       "      <td>2004-02-26</td>\n",
       "      <td>2003.0</td>\n",
       "      <td>Dinosaur Planet</td>\n",
       "    </tr>\n",
       "    <tr>\n",
       "      <th>40</th>\n",
       "      <td>1</td>\n",
       "      <td>1009622</td>\n",
       "      <td>1</td>\n",
       "      <td>2005-01-19</td>\n",
       "      <td>2003.0</td>\n",
       "      <td>Dinosaur Planet</td>\n",
       "    </tr>\n",
       "    <tr>\n",
       "      <th>41</th>\n",
       "      <td>1</td>\n",
       "      <td>1481961</td>\n",
       "      <td>2</td>\n",
       "      <td>2005-05-24</td>\n",
       "      <td>2003.0</td>\n",
       "      <td>Dinosaur Planet</td>\n",
       "    </tr>\n",
       "    <tr>\n",
       "      <th>50</th>\n",
       "      <td>1</td>\n",
       "      <td>1578279</td>\n",
       "      <td>1</td>\n",
       "      <td>2005-05-19</td>\n",
       "      <td>2003.0</td>\n",
       "      <td>Dinosaur Planet</td>\n",
       "    </tr>\n",
       "    <tr>\n",
       "      <th>...</th>\n",
       "      <td>...</td>\n",
       "      <td>...</td>\n",
       "      <td>...</td>\n",
       "      <td>...</td>\n",
       "      <td>...</td>\n",
       "      <td>...</td>\n",
       "    </tr>\n",
       "    <tr>\n",
       "      <th>100480489</th>\n",
       "      <td>17770</td>\n",
       "      <td>111084</td>\n",
       "      <td>2</td>\n",
       "      <td>2003-11-24</td>\n",
       "      <td>2003.0</td>\n",
       "      <td>Alien Hunter</td>\n",
       "    </tr>\n",
       "    <tr>\n",
       "      <th>100480493</th>\n",
       "      <td>17770</td>\n",
       "      <td>1983962</td>\n",
       "      <td>2</td>\n",
       "      <td>2005-02-23</td>\n",
       "      <td>2003.0</td>\n",
       "      <td>Alien Hunter</td>\n",
       "    </tr>\n",
       "    <tr>\n",
       "      <th>100480497</th>\n",
       "      <td>17770</td>\n",
       "      <td>834323</td>\n",
       "      <td>2</td>\n",
       "      <td>2005-10-04</td>\n",
       "      <td>2003.0</td>\n",
       "      <td>Alien Hunter</td>\n",
       "    </tr>\n",
       "    <tr>\n",
       "      <th>100480504</th>\n",
       "      <td>17770</td>\n",
       "      <td>234275</td>\n",
       "      <td>1</td>\n",
       "      <td>2004-08-07</td>\n",
       "      <td>2003.0</td>\n",
       "      <td>Alien Hunter</td>\n",
       "    </tr>\n",
       "    <tr>\n",
       "      <th>100480506</th>\n",
       "      <td>17770</td>\n",
       "      <td>453585</td>\n",
       "      <td>2</td>\n",
       "      <td>2005-03-10</td>\n",
       "      <td>2003.0</td>\n",
       "      <td>Alien Hunter</td>\n",
       "    </tr>\n",
       "  </tbody>\n",
       "</table>\n",
       "<p>14750070 rows × 6 columns</p>\n",
       "</div>"
      ],
      "text/plain": [
       "           movie_id  user_id  rating       date  release_year      movie_title\n",
       "36                1   525356       2 2004-07-11        2003.0  Dinosaur Planet\n",
       "39                1  2421815       2 2004-02-26        2003.0  Dinosaur Planet\n",
       "40                1  1009622       1 2005-01-19        2003.0  Dinosaur Planet\n",
       "41                1  1481961       2 2005-05-24        2003.0  Dinosaur Planet\n",
       "50                1  1578279       1 2005-05-19        2003.0  Dinosaur Planet\n",
       "...             ...      ...     ...        ...           ...              ...\n",
       "100480489     17770   111084       2 2003-11-24        2003.0     Alien Hunter\n",
       "100480493     17770  1983962       2 2005-02-23        2003.0     Alien Hunter\n",
       "100480497     17770   834323       2 2005-10-04        2003.0     Alien Hunter\n",
       "100480504     17770   234275       1 2004-08-07        2003.0     Alien Hunter\n",
       "100480506     17770   453585       2 2005-03-10        2003.0     Alien Hunter\n",
       "\n",
       "[14750070 rows x 6 columns]"
      ]
     },
     "execution_count": 37,
     "metadata": {},
     "output_type": "execute_result"
    }
   ],
   "source": [
    "rating_2  # instances of the dataframe where rating of the movie is either 2 or less."
   ]
  },
  {
   "cell_type": "markdown",
   "id": "6a41b5fb",
   "metadata": {},
   "source": [
    "There are 14 millions instances where the rating is 1 or 2."
   ]
  },
  {
   "cell_type": "code",
   "execution_count": 26,
   "id": "aa2f0bd7",
   "metadata": {
    "scrolled": true
   },
   "outputs": [
    {
     "name": "stdout",
     "output_type": "stream",
     "text": [
      "There are 14.68% of the movies which are low rated\n"
     ]
    }
   ],
   "source": [
    "# percentage of the movies which are rated 2 or less\n",
    "low_rated_percentage = round(len(rating_2['movie_id'])/len(netflix_dataset['movie_id'])* 100, 2)\n",
    "print(f\"There are {low_rated_percentage}% of the movies which are low rated\")"
   ]
  },
  {
   "cell_type": "code",
   "execution_count": 30,
   "id": "4d9b2537",
   "metadata": {},
   "outputs": [
    {
     "data": {
      "image/png": "[encoded data removed]",
      "text/plain": [
       "<Figure size 720x360 with 2 Axes>"
      ]
     },
     "metadata": {
      "needs_background": "light"
     },
     "output_type": "display_data"
    }
   ],
   "source": [
    "#comparing the histograms for the count of movies for ratings 1 and 2\n",
    "\n",
    "sns.displot(data=rating_2, x='movie_id', bins=50, col= 'rating')\n",
    "plt.show()"
   ]
  },
  {
   "cell_type": "code",
   "execution_count": 32,
   "id": "7b5274bc",
   "metadata": {
    "scrolled": true
   },
   "outputs": [
    {
     "data": {
      "image/png": "[encoded data removed]",
      "text/plain": [
       "<Figure size 720x360 with 2 Axes>"
      ]
     },
     "metadata": {
      "needs_background": "light"
     },
     "output_type": "display_data"
    }
   ],
   "source": [
    "#comparing the histograms for the count of movies for ratings 4 and 5\n",
    "\n",
    "sns.displot(data=rating_4, x='movie_id', bins=50, col= 'rating') #comparing two histograms\n",
    "plt.show()"
   ]
  },
  {
   "cell_type": "markdown",
   "id": "fbea7de6",
   "metadata": {},
   "source": [
    "### Quantitative Analysis of the Dataset"
   ]
  },
  {
   "cell_type": "code",
   "execution_count": 34,
   "id": "4c6959e8",
   "metadata": {
    "scrolled": false
   },
   "outputs": [
    {
     "name": "stdout",
     "output_type": "stream",
     "text": [
      "The rating mean is 3.604289964420661\n",
      "Thd rating median is 4.0\n",
      "Thd standard deviation of the rating is 1.0852185655857152\n",
      "Thd rating mode is 4\n"
     ]
    }
   ],
   "source": [
    "print(f\"The rating mean is {netflix_dataset['rating'].mean()}\")\n",
    "print(f\"Thd rating median is {netflix_dataset['rating'].median()}\") \n",
    "print(f\"Thd standard deviation of the rating is {netflix_dataset['rating'].std()}\")\n",
    "\n",
    "print(f\"Thd rating mode is {netflix_dataset.mode()['rating'][0]}\")\n"
   ]
  },
  {
   "cell_type": "markdown",
   "id": "0007e90c",
   "metadata": {},
   "source": [
    "Using unique function for exploring some information about the dataset."
   ]
  },
  {
   "cell_type": "code",
   "execution_count": 13,
   "id": "2c8d10ec",
   "metadata": {},
   "outputs": [
    {
     "name": "stdout",
     "output_type": "stream",
     "text": [
      "Total number of  unique Ratings are [3 5 4 2 1]\n",
      "Total number of unique Users are 480189\n",
      "Total number of unique movies are 17770\n",
      "Total number of unique date are 2182\n"
     ]
    }
   ],
   "source": [
    "print(f\"Total number of  unique Ratings are {netflix_dataset['rating'].unique()}\")\n",
    "print(f\"Total number of unique Users are {len(netflix_dataset['user_id'].unique())}\")\n",
    "print(f\"Total number of unique movies are {len(netflix_dataset['movie_id'].unique())}\")\n",
    "print(f\"Total number of unique date are {len(netflix_dataset['date'].unique())}\")"
   ]
  },
  {
   "cell_type": "markdown",
   "id": "f58e90ab",
   "metadata": {},
   "source": [
    "We want to know how many movies have been viewed by user_id = 2421815"
   ]
  },
  {
   "cell_type": "code",
   "execution_count": 12,
   "id": "13b3ba9f",
   "metadata": {},
   "outputs": [
    {
     "name": "stdout",
     "output_type": "stream",
     "text": [
      "Thd most frequent user_id is 305344\n"
     ]
    }
   ],
   "source": [
    "# Most active user in the datset. We will use mode function for that\n",
    "print(f\"Thd most frequent user_id is {netflix_dataset.mode()['user_id'][0]}\")\n"
   ]
  },
  {
   "cell_type": "code",
   "execution_count": 20,
   "id": "d0dba51d",
   "metadata": {
    "scrolled": true
   },
   "outputs": [
    {
     "data": {
      "text/html": [
       "<div>\n",
       "<style scoped>\n",
       "    .dataframe tbody tr th:only-of-type {\n",
       "        vertical-align: middle;\n",
       "    }\n",
       "\n",
       "    .dataframe tbody tr th {\n",
       "        vertical-align: top;\n",
       "    }\n",
       "\n",
       "    .dataframe thead th {\n",
       "        text-align: right;\n",
       "    }\n",
       "</style>\n",
       "<table border=\"1\" class=\"dataframe\">\n",
       "  <thead>\n",
       "    <tr style=\"text-align: right;\">\n",
       "      <th></th>\n",
       "      <th>movie_id</th>\n",
       "      <th>user_id</th>\n",
       "      <th>rating</th>\n",
       "      <th>date</th>\n",
       "      <th>release_year</th>\n",
       "      <th>movie_title</th>\n",
       "    </tr>\n",
       "  </thead>\n",
       "  <tbody>\n",
       "    <tr>\n",
       "      <th>327</th>\n",
       "      <td>1</td>\n",
       "      <td>305344</td>\n",
       "      <td>1</td>\n",
       "      <td>2004-02-08</td>\n",
       "      <td>2003.0</td>\n",
       "      <td>Dinosaur Planet</td>\n",
       "    </tr>\n",
       "    <tr>\n",
       "      <th>648</th>\n",
       "      <td>2</td>\n",
       "      <td>305344</td>\n",
       "      <td>1</td>\n",
       "      <td>2004-10-16</td>\n",
       "      <td>2004.0</td>\n",
       "      <td>Isle of Man TT 2004 Review</td>\n",
       "    </tr>\n",
       "    <tr>\n",
       "      <th>2001</th>\n",
       "      <td>3</td>\n",
       "      <td>305344</td>\n",
       "      <td>2</td>\n",
       "      <td>2003-03-23</td>\n",
       "      <td>1997.0</td>\n",
       "      <td>Character</td>\n",
       "    </tr>\n",
       "    <tr>\n",
       "      <th>2793</th>\n",
       "      <td>4</td>\n",
       "      <td>305344</td>\n",
       "      <td>1</td>\n",
       "      <td>2003-12-13</td>\n",
       "      <td>1994.0</td>\n",
       "      <td>Paula Abdul's Get Up &amp; Dance</td>\n",
       "    </tr>\n",
       "    <tr>\n",
       "      <th>3570</th>\n",
       "      <td>5</td>\n",
       "      <td>305344</td>\n",
       "      <td>1</td>\n",
       "      <td>2004-12-15</td>\n",
       "      <td>2004.0</td>\n",
       "      <td>The Rise and Fall of ECW</td>\n",
       "    </tr>\n",
       "    <tr>\n",
       "      <th>...</th>\n",
       "      <td>...</td>\n",
       "      <td>...</td>\n",
       "      <td>...</td>\n",
       "      <td>...</td>\n",
       "      <td>...</td>\n",
       "      <td>...</td>\n",
       "    </tr>\n",
       "    <tr>\n",
       "      <th>100471063</th>\n",
       "      <td>17766</td>\n",
       "      <td>305344</td>\n",
       "      <td>1</td>\n",
       "      <td>2003-05-23</td>\n",
       "      <td>2002.0</td>\n",
       "      <td>Where the Wild Things Are and Other Maurice Se...</td>\n",
       "    </tr>\n",
       "    <tr>\n",
       "      <th>100471395</th>\n",
       "      <td>17767</td>\n",
       "      <td>305344</td>\n",
       "      <td>1</td>\n",
       "      <td>2005-01-21</td>\n",
       "      <td>2004.0</td>\n",
       "      <td>Fidel Castro: American Experience</td>\n",
       "    </tr>\n",
       "    <tr>\n",
       "      <th>100472385</th>\n",
       "      <td>17768</td>\n",
       "      <td>305344</td>\n",
       "      <td>2</td>\n",
       "      <td>2003-05-18</td>\n",
       "      <td>2000.0</td>\n",
       "      <td>Epoch</td>\n",
       "    </tr>\n",
       "    <tr>\n",
       "      <th>100477129</th>\n",
       "      <td>17769</td>\n",
       "      <td>305344</td>\n",
       "      <td>1</td>\n",
       "      <td>2003-10-18</td>\n",
       "      <td>2003.0</td>\n",
       "      <td>The Company</td>\n",
       "    </tr>\n",
       "    <tr>\n",
       "      <th>100480163</th>\n",
       "      <td>17770</td>\n",
       "      <td>305344</td>\n",
       "      <td>1</td>\n",
       "      <td>2003-09-20</td>\n",
       "      <td>2003.0</td>\n",
       "      <td>Alien Hunter</td>\n",
       "    </tr>\n",
       "  </tbody>\n",
       "</table>\n",
       "<p>17653 rows × 6 columns</p>\n",
       "</div>"
      ],
      "text/plain": [
       "           movie_id  user_id  rating       date  release_year  \\\n",
       "327               1   305344       1 2004-02-08        2003.0   \n",
       "648               2   305344       1 2004-10-16        2004.0   \n",
       "2001              3   305344       2 2003-03-23        1997.0   \n",
       "2793              4   305344       1 2003-12-13        1994.0   \n",
       "3570              5   305344       1 2004-12-15        2004.0   \n",
       "...             ...      ...     ...        ...           ...   \n",
       "100471063     17766   305344       1 2003-05-23        2002.0   \n",
       "100471395     17767   305344       1 2005-01-21        2004.0   \n",
       "100472385     17768   305344       2 2003-05-18        2000.0   \n",
       "100477129     17769   305344       1 2003-10-18        2003.0   \n",
       "100480163     17770   305344       1 2003-09-20        2003.0   \n",
       "\n",
       "                                                 movie_title  \n",
       "327                                          Dinosaur Planet  \n",
       "648                               Isle of Man TT 2004 Review  \n",
       "2001                                               Character  \n",
       "2793                            Paula Abdul's Get Up & Dance  \n",
       "3570                                The Rise and Fall of ECW  \n",
       "...                                                      ...  \n",
       "100471063  Where the Wild Things Are and Other Maurice Se...  \n",
       "100471395                  Fidel Castro: American Experience  \n",
       "100472385                                              Epoch  \n",
       "100477129                                        The Company  \n",
       "100480163                                       Alien Hunter  \n",
       "\n",
       "[17653 rows x 6 columns]"
      ]
     },
     "execution_count": 20,
     "metadata": {},
     "output_type": "execute_result"
    }
   ],
   "source": [
    "# Obtaining the dataframe with the filter user_id = 305344\n",
    "netflix_dataset[netflix_dataset['user_id'] == 305344]\n"
   ]
  },
  {
   "cell_type": "markdown",
   "id": "9dec3915",
   "metadata": {},
   "source": [
    "This means that user_id = 305344 has rated 17653 times!"
   ]
  },
  {
   "cell_type": "markdown",
   "id": "fe530b8d",
   "metadata": {},
   "source": [
    "### Probability Analysis of the Rating Column"
   ]
  },
  {
   "cell_type": "markdown",
   "id": "2195be02",
   "metadata": {},
   "source": [
    "Analytical Question1: How much is the probablity of rating per movie and plot the subsequent graph"
   ]
  },
  {
   "cell_type": "code",
   "execution_count": null,
   "id": "be04b919",
   "metadata": {},
   "outputs": [],
   "source": [
    "#frequency of ratings per movie\n",
    "no_of_ratings_per_movie = netflix_dataset.groupby(by='movie_id')['rating'].count().sort_values(ascending=True)\n",
    "no_of_ratings_per_movie.describe() "
   ]
  },
  {
   "cell_type": "code",
   "execution_count": 42,
   "id": "6dafc034",
   "metadata": {
    "scrolled": false
   },
   "outputs": [
    {
     "data": {
      "image/png": "[encoded data removed]",
      "text/plain": [
       "<Figure size 576x288 with 1 Axes>"
      ]
     },
     "metadata": {
      "needs_background": "light"
     },
     "output_type": "display_data"
    }
   ],
   "source": [
    "\n",
    "fig = plt.figure(figsize=plt.figaspect(.5)) # customizing the size of the figure\n",
    "ax = plt.gca() # to get the current figure\n",
    "plt.plot(no_of_ratings_per_movie.values) \n",
    "plt.title('Rating Per user')\n",
    "plt.xlabel('Movie')\n",
    "plt.ylabel('No. of Users who rated a Movie')\n",
    "ax.set_xticklabels([])\n",
    "\n",
    "plt.show()"
   ]
  },
  {
   "cell_type": "markdown",
   "id": "f521537e",
   "metadata": {},
   "source": [
    "Comment: The rating per movie started to drastically increase as the number of users crossed 50,000."
   ]
  },
  {
   "cell_type": "markdown",
   "id": "6390143b",
   "metadata": {},
   "source": [
    "Analytical Question2: How much is the probabilty of the movie rated per user and plot the subsequent graph"
   ]
  },
  {
   "cell_type": "code",
   "execution_count": null,
   "id": "9f8cee3e",
   "metadata": {},
   "outputs": [],
   "source": [
    "# frequency of rated movie per user\n",
    "no_of_rated_movie_per_user = netflix_dataset.groupby(by='user_id')['rating'].count().sort_values(ascending=False)\n",
    "no_of_rated_movie_per_user.describe()"
   ]
  },
  {
   "cell_type": "code",
   "execution_count": 45,
   "id": "08482578",
   "metadata": {
    "scrolled": true
   },
   "outputs": [
    {
     "data": {
      "image/png": "[encoded data removed]",
      "text/plain": [
       "<Figure size 576x288 with 2 Axes>"
      ]
     },
     "metadata": {
      "needs_background": "light"
     },
     "output_type": "display_data"
    }
   ],
   "source": [
    "# Plotting the Probability Density Function (PDF) \n",
    "fig = plt.figure(figsize=plt.figaspect(.5))\n",
    "\n",
    "ax1 = plt.subplot(121)\n",
    "sns.kdeplot(no_of_rated_movie_per_user, ax=ax1, shade=True) #using kdeplot from seaborn library\n",
    "plt.xlabel('No of ratings by user')\n",
    "plt.ylabel('PDF')\n",
    "\n",
    "\n",
    "# Cumulative Density function(CDF)\n",
    "ax2 = plt.subplot(122)\n",
    "sns.kdeplot(no_of_rated_movie_per_user, ax=ax2, shade=True, cumulative=True) #using kdeplot from seaborn library\n",
    "plt.xlabel('No of ratings by user')\n",
    "plt.ylabel('CDF')\n",
    "\n",
    "plt.show()"
   ]
  },
  {
   "cell_type": "markdown",
   "id": "0f4fc2b7",
   "metadata": {},
   "source": [
    "Analytical Comment: The maximum probability of rating a movie by a user is 0.5% and maximum cumulative probability for the same is close to 98%. This means that viewers generally rate almost each and every movie. This analysis doesnot tell truth value if the rating is true for a movie."
   ]
  },
  {
   "cell_type": "code",
   "execution_count": 9,
   "id": "2cef1a65",
   "metadata": {},
   "outputs": [
    {
     "name": "stdout",
     "output_type": "stream",
     "text": [
      "The starting year is 1896 and ending year is 2005 for the release of the movies .\n"
     ]
    }
   ],
   "source": [
    "min_release_year = min(netflix_dataset.release_year)\n",
    "max_release_year = max(netflix_dataset.release_year)\n",
    "print(f\"The starting year is {min_release_year} and ending year is {max_release_year} for the release of the movies .\")"
   ]
  },
  {
   "cell_type": "code",
   "execution_count": 50,
   "id": "58b5254b",
   "metadata": {},
   "outputs": [
    {
     "name": "stdout",
     "output_type": "stream",
     "text": [
      "The number of movies released per year between 2003 and 2005 is 1609.5\n",
      "The number of movies released per year between 1915 and 2003 is 135.99065420560748\n"
     ]
    }
   ],
   "source": [
    "# Movies relesed per year before 2003 and the movie released per year between 2003 and 2005.\n",
    "\n",
    "# unique number of movie_ids released 2003 and after.\n",
    "movies_2003 = len(netflix_dataset[netflix_dataset['release_year'] >=2003]['movie_id'].unique())\n",
    "\n",
    "# unique number of movie_ids released before 2003\n",
    "movies_1915 = len(netflix_dataset[netflix_dataset['release_year'] < 2003]['movie_id'].unique())\n",
    "\n",
    "movies_2003/(netflix_dataset['release_year'].max() - 2003)\n",
    "movies_1915/ (2003 - netflix_dataset['release_year'].min())\n",
    "\n",
    "print(f\"The number of movies released per year between 2003 and 2005 is {movies_2003/(netflix_dataset['release_year'].max() - 2003)}\")\n",
    "print(f\"The number of movies released per year between 1915 and 2003 is {movies_1915/ (2003 - netflix_dataset['release_year'].min())}\")\n"
   ]
  },
  {
   "cell_type": "markdown",
   "id": "cf5ac88a",
   "metadata": {},
   "source": [
    "### More Pre-processing for Further Exploration"
   ]
  },
  {
   "cell_type": "markdown",
   "id": "d393a9fe",
   "metadata": {},
   "source": [
    "Extracting the year from the date column and create the new rating_year column. Then dropping the 'date' column.\n"
   ]
  },
  {
   "cell_type": "code",
   "execution_count": 12,
   "id": "ff39f00d",
   "metadata": {},
   "outputs": [],
   "source": [
    "#extracting the year from date column and saving it in a new column 'rating year'\n",
    "netflix_dataset['rating_year'] = pd.DatetimeIndex(netflix_dataset['date']).year \n",
    "\n",
    "# dropping the original date column\n",
    "netflix_dataset.drop('date', axis=1, inplace=True) "
   ]
  },
  {
   "cell_type": "code",
   "execution_count": 13,
   "id": "91e19483",
   "metadata": {},
   "outputs": [
    {
     "data": {
      "text/html": [
       "<div>\n",
       "<style scoped>\n",
       "    .dataframe tbody tr th:only-of-type {\n",
       "        vertical-align: middle;\n",
       "    }\n",
       "\n",
       "    .dataframe tbody tr th {\n",
       "        vertical-align: top;\n",
       "    }\n",
       "\n",
       "    .dataframe thead th {\n",
       "        text-align: right;\n",
       "    }\n",
       "</style>\n",
       "<table border=\"1\" class=\"dataframe\">\n",
       "  <thead>\n",
       "    <tr style=\"text-align: right;\">\n",
       "      <th></th>\n",
       "      <th>movie_id</th>\n",
       "      <th>user_id</th>\n",
       "      <th>rating</th>\n",
       "      <th>release_year</th>\n",
       "      <th>movie_title</th>\n",
       "      <th>rating_year</th>\n",
       "    </tr>\n",
       "  </thead>\n",
       "  <tbody>\n",
       "    <tr>\n",
       "      <th>0</th>\n",
       "      <td>1</td>\n",
       "      <td>1488844</td>\n",
       "      <td>3</td>\n",
       "      <td>2003</td>\n",
       "      <td>Dinosaur Planet</td>\n",
       "      <td>2005</td>\n",
       "    </tr>\n",
       "    <tr>\n",
       "      <th>1</th>\n",
       "      <td>1</td>\n",
       "      <td>822109</td>\n",
       "      <td>5</td>\n",
       "      <td>2003</td>\n",
       "      <td>Dinosaur Planet</td>\n",
       "      <td>2005</td>\n",
       "    </tr>\n",
       "    <tr>\n",
       "      <th>2</th>\n",
       "      <td>1</td>\n",
       "      <td>885013</td>\n",
       "      <td>4</td>\n",
       "      <td>2003</td>\n",
       "      <td>Dinosaur Planet</td>\n",
       "      <td>2005</td>\n",
       "    </tr>\n",
       "    <tr>\n",
       "      <th>3</th>\n",
       "      <td>1</td>\n",
       "      <td>30878</td>\n",
       "      <td>4</td>\n",
       "      <td>2003</td>\n",
       "      <td>Dinosaur Planet</td>\n",
       "      <td>2005</td>\n",
       "    </tr>\n",
       "    <tr>\n",
       "      <th>4</th>\n",
       "      <td>1</td>\n",
       "      <td>823519</td>\n",
       "      <td>3</td>\n",
       "      <td>2003</td>\n",
       "      <td>Dinosaur Planet</td>\n",
       "      <td>2004</td>\n",
       "    </tr>\n",
       "  </tbody>\n",
       "</table>\n",
       "</div>"
      ],
      "text/plain": [
       "   movie_id  user_id  rating  release_year      movie_title  rating_year\n",
       "0         1  1488844       3          2003  Dinosaur Planet         2005\n",
       "1         1   822109       5          2003  Dinosaur Planet         2005\n",
       "2         1   885013       4          2003  Dinosaur Planet         2005\n",
       "3         1    30878       4          2003  Dinosaur Planet         2005\n",
       "4         1   823519       3          2003  Dinosaur Planet         2004"
      ]
     },
     "execution_count": 13,
     "metadata": {},
     "output_type": "execute_result"
    }
   ],
   "source": [
    "#The new modified dataset\n",
    "netflix_dataset.head()"
   ]
  },
  {
   "cell_type": "markdown",
   "id": "8e3f210b",
   "metadata": {},
   "source": [
    "### More Multivariate Data Exploration on new column 'rating year' ."
   ]
  },
  {
   "cell_type": "code",
   "execution_count": 73,
   "id": "0fd0bfc9",
   "metadata": {},
   "outputs": [
    {
     "name": "stdout",
     "output_type": "stream",
     "text": [
      "Audience started rating in the year 1999 and rated till 2005\n"
     ]
    }
   ],
   "source": [
    "start_rating_year = netflix_dataset['rating_year'].min() # rating started with which year\n",
    "\n",
    "end_rating_year = netflix_dataset['rating_year'].max() # till which year we have rating data\n",
    "\n",
    "print(f\"Audience started rating in the year {start_rating_year} and rated till {end_rating_year}\")"
   ]
  },
  {
   "cell_type": "markdown",
   "id": "461bc3e6",
   "metadata": {},
   "source": [
    "Analytical Question3: Calulate the percentage of the rating count year wise(rating_year wise) and comment on the year with the highest rating. Also, visualize the result on a suitable graph."
   ]
  },
  {
   "cell_type": "code",
   "execution_count": 71,
   "id": "6c064569",
   "metadata": {},
   "outputs": [
    {
     "name": "stdout",
     "output_type": "stream",
     "text": [
      "Year  Percentage\n",
      "1999: 0.0021675846042456775\n",
      "2000: 0.9200222287891123\n",
      "2001: 1.760571331512091\n",
      "2002: 4.322102992573475\n",
      "2003: 9.937586202665159\n",
      "2004: 30.0621233927492\n",
      "2005: 52.995426267106716\n"
     ]
    }
   ],
   "source": [
    "#Calculating the percentage of ratings in each and every year.\n",
    "rating_year_list = netflix_dataset.rating_year.tolist() #converting rating_year to list\n",
    "\n",
    "\n",
    "length = len(rating_year_list); percentage = [] #declaring empty list\n",
    "list = list(set(rating_year_list))\n",
    "list.sort()\n",
    "for i in list:  # for loop to append the empty list with calculated percentage of rating year divided by its length\n",
    "    percentage.append(rating_year_list.count(i)/length)\n",
    "y = 1999\n",
    "print(\"Year  Percentage\")\n",
    "for i in range(len(percentage)): # for loop to append the dictionary with year and the rating percentage\n",
    "    print ('{}: {}'.format(y,percentage[i]*100)) #multiply by 100 to give the result in percentage\n",
    "    y += 1"
   ]
  },
  {
   "cell_type": "code",
   "execution_count": 72,
   "id": "0d6cc074",
   "metadata": {},
   "outputs": [
    {
     "data": {
      "image/png": "[encoded data removed]",
      "text/plain": [
       "<Figure size 1080x432 with 1 Axes>"
      ]
     },
     "metadata": {
      "needs_background": "light"
     },
     "output_type": "display_data"
    }
   ],
   "source": [
    "# visualize the percentage output above on the bar graph \n",
    "plt.figure(figsize=(15,6)) #cutomizing the figure size\n",
    "sns.barplot(x=list,y=percentage)\n",
    "plt.title('Year wise Distribution of Total Ratings ',fontdict={'fontsize':30})\n",
    "plt.xlabel('Year'); plt.ylabel('Percentage of ratings')\n",
    "plt.show()"
   ]
  },
  {
   "cell_type": "markdown",
   "id": "276ff313",
   "metadata": {},
   "source": [
    "Analytical Comments: The graph shows that viewers started to watch and rate movies more frequently after 2003 and the percentage computation shows that more than over half of the ratings (53%) were done only in 2005."
   ]
  },
  {
   "cell_type": "code",
   "execution_count": 23,
   "id": "7a863b61",
   "metadata": {
    "scrolled": false
   },
   "outputs": [
    {
     "data": {
      "text/plain": [
       "<AxesSubplot:>"
      ]
     },
     "execution_count": 23,
     "metadata": {},
     "output_type": "execute_result"
    },
    {
     "data": {
      "image/png": "[encoded data removed]",
      "text/plain": [
       "<Figure size 432x288 with 2 Axes>"
      ]
     },
     "metadata": {
      "needs_background": "light"
     },
     "output_type": "display_data"
    }
   ],
   "source": [
    "# Correlation shows the realtionship between the numerical columns of the dataset.\n",
    "\n",
    "correlation = netflix_dataset.corr()\n",
    "sns.heatmap(correlation, xticklabels=correlation.columns,  #heatmap for visualization for correlation\n",
    "            yticklabels=correlation.columns, annot=True)"
   ]
  },
  {
   "cell_type": "markdown",
   "id": "a8165f84",
   "metadata": {},
   "source": [
    "Comments: Generally, the variables are not very much co-related to each other but there is some positive relation between rating_year and rating which make sense because as the netflix became more popular, rating also became more frequent."
   ]
  },
  {
   "cell_type": "markdown",
   "id": "a796c0d4",
   "metadata": {},
   "source": [
    "# Pre-Processing the dataset suitable for the machine learning model"
   ]
  },
  {
   "cell_type": "markdown",
   "id": "eda96931",
   "metadata": {},
   "source": [
    "Removing the movie_titles column as we have movie_id which represent the same as movie_title.\n",
    "Also, this will help to feed the modified data for the implementing machine learning algorithm.\n",
    "Here, I am going to use classification model. I have assumed that rating 1, 2 and 3 are 'Low' rated movie and the rating 4 and 5 are 'high' rated movie. \n",
    "My objective is to train the model on the basis of this assumption and predict the same for test data. I have created a new column 'rating classifer' as our new dependent variable. Also, I have dropped the original 'rating' column."
   ]
  },
  {
   "cell_type": "code",
   "execution_count": 19,
   "id": "138a68c0",
   "metadata": {},
   "outputs": [],
   "source": [
    "# dropping movie titles as movie_id represents the same\n",
    "netflix_dataset.drop('movie_title', axis=1, inplace=True)\n",
    "\n",
    "# creating a new column as rating_classify where rating 1, 2 and 3 is categorized as 'Low' rating and 4 and as 'High' rating.\n",
    "netflix_dataset['rating_classify'] = np.where(netflix_dataset['rating'] > 3, 'High', 'Low')\n",
    "\n"
   ]
  },
  {
   "cell_type": "code",
   "execution_count": 20,
   "id": "6441c2fa",
   "metadata": {
    "scrolled": true
   },
   "outputs": [],
   "source": [
    "# Dropping the rows where rating_year is 2005 to make the dataset computable in less time.\n",
    "netflix_dataset = netflix_dataset.drop(netflix_dataset[netflix_dataset.rating_year == 2005].index)\n"
   ]
  },
  {
   "cell_type": "code",
   "execution_count": 22,
   "id": "0460b417",
   "metadata": {},
   "outputs": [
    {
     "data": {
      "text/html": [
       "<div>\n",
       "<style scoped>\n",
       "    .dataframe tbody tr th:only-of-type {\n",
       "        vertical-align: middle;\n",
       "    }\n",
       "\n",
       "    .dataframe tbody tr th {\n",
       "        vertical-align: top;\n",
       "    }\n",
       "\n",
       "    .dataframe thead th {\n",
       "        text-align: right;\n",
       "    }\n",
       "</style>\n",
       "<table border=\"1\" class=\"dataframe\">\n",
       "  <thead>\n",
       "    <tr style=\"text-align: right;\">\n",
       "      <th></th>\n",
       "      <th>movie_id</th>\n",
       "      <th>user_id</th>\n",
       "      <th>rating</th>\n",
       "      <th>release_year</th>\n",
       "      <th>rating_year</th>\n",
       "      <th>rating_classify</th>\n",
       "    </tr>\n",
       "  </thead>\n",
       "  <tbody>\n",
       "    <tr>\n",
       "      <th>4</th>\n",
       "      <td>1</td>\n",
       "      <td>823519</td>\n",
       "      <td>3</td>\n",
       "      <td>2003</td>\n",
       "      <td>2004</td>\n",
       "      <td>Low</td>\n",
       "    </tr>\n",
       "    <tr>\n",
       "      <th>6</th>\n",
       "      <td>1</td>\n",
       "      <td>124105</td>\n",
       "      <td>4</td>\n",
       "      <td>2003</td>\n",
       "      <td>2004</td>\n",
       "      <td>High</td>\n",
       "    </tr>\n",
       "    <tr>\n",
       "      <th>7</th>\n",
       "      <td>1</td>\n",
       "      <td>1248029</td>\n",
       "      <td>3</td>\n",
       "      <td>2003</td>\n",
       "      <td>2004</td>\n",
       "      <td>Low</td>\n",
       "    </tr>\n",
       "    <tr>\n",
       "      <th>8</th>\n",
       "      <td>1</td>\n",
       "      <td>1842128</td>\n",
       "      <td>4</td>\n",
       "      <td>2003</td>\n",
       "      <td>2004</td>\n",
       "      <td>High</td>\n",
       "    </tr>\n",
       "    <tr>\n",
       "      <th>12</th>\n",
       "      <td>1</td>\n",
       "      <td>2590061</td>\n",
       "      <td>3</td>\n",
       "      <td>2003</td>\n",
       "      <td>2004</td>\n",
       "      <td>Low</td>\n",
       "    </tr>\n",
       "  </tbody>\n",
       "</table>\n",
       "</div>"
      ],
      "text/plain": [
       "    movie_id  user_id  rating  release_year  rating_year rating_classify\n",
       "4          1   823519       3          2003         2004             Low\n",
       "6          1   124105       4          2003         2004            High\n",
       "7          1  1248029       3          2003         2004             Low\n",
       "8          1  1842128       4          2003         2004            High\n",
       "12         1  2590061       3          2003         2004             Low"
      ]
     },
     "execution_count": 22,
     "metadata": {},
     "output_type": "execute_result"
    }
   ],
   "source": [
    "#Lets check the head of our new dataset ready to feed in machine learning alogorithm\n",
    "netflix_dataset.head()"
   ]
  },
  {
   "cell_type": "code",
   "execution_count": 21,
   "id": "4e437d6c",
   "metadata": {
    "scrolled": true
   },
   "outputs": [
    {
     "name": "stdout",
     "output_type": "stream",
     "text": [
      "<class 'pandas.core.frame.DataFrame'>\n",
      "Int64Index: 47230434 entries, 4 to 100480505\n",
      "Data columns (total 6 columns):\n",
      " #   Column           Dtype \n",
      "---  ------           ----- \n",
      " 0   movie_id         int64 \n",
      " 1   user_id          int64 \n",
      " 2   rating           int64 \n",
      " 3   release_year     int64 \n",
      " 4   rating_year      int64 \n",
      " 5   rating_classify  object\n",
      "dtypes: int64(5), object(1)\n",
      "memory usage: 4.8 GB\n"
     ]
    }
   ],
   "source": [
    "#Lets check the info of our new dataframe(machine learning ready!)\n",
    "netflix_dataset.head()\n",
    "netflix_dataset.info(memory_usage='deep')"
   ]
  },
  {
   "cell_type": "code",
   "execution_count": null,
   "id": "d91e0ad1",
   "metadata": {},
   "outputs": [],
   "source": [
    "# exporting the dataframe to the local machine for the initiating into pySpark (only need to run once)\n",
    "#netflix_dataset.to_csv('/Users/neha/Desktop/Studies Msc Data Analytics/Big Data/Netflix Big Data set/netflix_big.csv', index = None, header=True)"
   ]
  },
  {
   "cell_type": "markdown",
   "id": "a270ae00",
   "metadata": {},
   "source": [
    "# Decision Tree Classification Model in pySpark"
   ]
  },
  {
   "cell_type": "markdown",
   "id": "99291cc7",
   "metadata": {},
   "source": [
    "Initiating pySpark session for implementing Decision Tree Classification model"
   ]
  },
  {
   "cell_type": "code",
   "execution_count": 24,
   "id": "d06b2b79",
   "metadata": {},
   "outputs": [],
   "source": [
    "# set up the environment variables and and pyspark will be imported \n",
    "import findspark\n",
    "\n",
    "# measuring the objects' memory\n",
    "import sys\n",
    "\n",
    "# tracking the computation time\n",
    "from datetime import datetime \n",
    "\n",
    "# VectorAssembler is a transformer that combines list of columns in a dataframe into a single vector column. \n",
    "from pyspark.ml.feature import VectorAssembler\n",
    "\n",
    "# StringIndexer provides transformer to convert string labels into numerical values\n",
    "# VectorIndexer helps index categorical features in datasets of Vectors.\n",
    "from pyspark.ml.feature import StringIndexer, VectorIndexer\n",
    "\n",
    "# A Spark Pipeline is specified as a sequence of stages, and each stage is either a Transformer or an Estimator\n",
    "from pyspark.ml import Pipeline\n",
    "\n",
    "# ML library for Decision Tree\n",
    "from pyspark.ml.classification import DecisionTreeClassifier\n",
    "\n",
    "# evalaution ML library for various prediction model\n",
    "from pyspark.ml.evaluation import MulticlassClassificationEvaluator\n",
    "\n",
    "# The entry point to programming Spark with the Dataset and DataFrame API.\n",
    "from pyspark.sql import SparkSession\n",
    "\n",
    "#initilizing findspark.init function to locate the spark installed in the machine\n",
    "findspark.init('/Users/neha/Desktop/Studies Msc Data Analytics/Big Data/spark-3.1.2-bin-hadoop3.2')"
   ]
  },
  {
   "cell_type": "code",
   "execution_count": 25,
   "id": "6108596d",
   "metadata": {
    "scrolled": false
   },
   "outputs": [
    {
     "name": "stdout",
     "output_type": "stream",
     "text": [
      "time taken to initiate the pySpark: 0:00:00.336197\n"
     ]
    },
    {
     "data": {
      "text/html": [
       "\n",
       "            <div>\n",
       "                <p><b>SparkSession - in-memory</b></p>\n",
       "                \n",
       "        <div>\n",
       "            <p><b>SparkContext</b></p>\n",
       "\n",
       "            <p><a href=\"http://nehas-air:4040\">Spark UI</a></p>\n",
       "\n",
       "            <dl>\n",
       "              <dt>Version</dt>\n",
       "                <dd><code>v3.1.2</code></dd>\n",
       "              <dt>Master</dt>\n",
       "                <dd><code>local[*]</code></dd>\n",
       "              <dt>AppName</dt>\n",
       "                <dd><code>PySpark</code></dd>\n",
       "            </dl>\n",
       "        </div>\n",
       "        \n",
       "            </div>\n",
       "        "
      ],
      "text/plain": [
       "<pyspark.sql.session.SparkSession at 0x7fb5e9556e50>"
      ]
     },
     "execution_count": 25,
     "metadata": {},
     "output_type": "execute_result"
    }
   ],
   "source": [
    "start = datetime.now()\n",
    "\n",
    "spark = SparkSession.builder.appName(\"PySpark\").getOrCreate()\n",
    "print('time taken to initiate the pySpark:', datetime.now() - start)\n",
    "spark"
   ]
  },
  {
   "cell_type": "code",
   "execution_count": 26,
   "id": "f1ac1bb0",
   "metadata": {},
   "outputs": [
    {
     "name": "stdout",
     "output_type": "stream",
     "text": [
      "time taken to create pySpark data frame: 0:00:15.347592\n"
     ]
    }
   ],
   "source": [
    "start = datetime.now() # track the computation time \n",
    "\n",
    "# importing the new netflix csv file into pyspark dataframe\n",
    "netflix = spark.read.csv('/Users/neha/Desktop/Studies Msc Data Analytics/Big Data/Netflix Big Data set/netflix_big.csv', sep=\",\", header=True, inferSchema=True)\n",
    "print('time taken to create pySpark data frame:', datetime.now() - start)\n"
   ]
  },
  {
   "cell_type": "markdown",
   "id": "48d89f25",
   "metadata": {},
   "source": [
    "Computation time for the pyspark dataframe : 21.3 seconds"
   ]
  },
  {
   "cell_type": "code",
   "execution_count": 5,
   "id": "e8b3cf67",
   "metadata": {
    "scrolled": true
   },
   "outputs": [
    {
     "name": "stdout",
     "output_type": "stream",
     "text": [
      "root\n",
      " |-- movie_id: integer (nullable = true)\n",
      " |-- user_id: integer (nullable = true)\n",
      " |-- rating: integer (nullable = true)\n",
      " |-- date: string (nullable = true)\n",
      " |-- release_year: integer (nullable = true)\n",
      " |-- movie_title: string (nullable = true)\n",
      " |-- rating_year: integer (nullable = true)\n",
      " |-- rating_classify: string (nullable = true)\n",
      "\n",
      "+-------+-----------------+------------------+------------------+----------+------------------+--------------------+------------------+---------------+\n",
      "|summary|         movie_id|           user_id|            rating|      date|      release_year|         movie_title|       rating_year|rating_classify|\n",
      "+-------+-----------------+------------------+------------------+----------+------------------+--------------------+------------------+---------------+\n",
      "|  count|         47230434|          47230434|          47230434|  47230434|          47230434|            47230434|          47230434|       47230434|\n",
      "|   mean| 9026.21701517712|1319882.1698364236|3.5233194342444536|      null|1993.4710418710106|            Infinity|2003.4137925135306|           null|\n",
      "| stddev|5133.191898089469| 764661.3886311813|1.0915993664334156|      null|12.256654742994026|                 NaN|0.9418069379166047|           null|\n",
      "|    min|                1|                 6|                 1|1999-11-11|              1896|\"Hill \"\"Halfon\"\" ...|              1999|           High|\n",
      "|    25%|             4640|            658437|                 3|      null|              1990|                20.0|              2003|           null|\n",
      "|    50%|             8945|           1313905|                 4|      null|              1998|                54.0|              2004|           null|\n",
      "|    75%|            13593|           1981726|                 4|      null|              2002|              1941.0|              2004|           null|\n",
      "|    max|            17770|           2649429|                 5|2004-12-31|              2005|                 sex|              2004|            Low|\n",
      "+-------+-----------------+------------------+------------------+----------+------------------+--------------------+------------------+---------------+\n",
      "\n"
     ]
    }
   ],
   "source": [
    "netflix.printSchema() # to print the various pyspark column names with their datatypes.\n",
    "netflix.summary().show() # to show the inital glimpse of the dataset"
   ]
  },
  {
   "cell_type": "code",
   "execution_count": 27,
   "id": "1a39e324",
   "metadata": {
    "scrolled": true
   },
   "outputs": [
    {
     "data": {
      "text/plain": [
       "1393771233"
      ]
     },
     "execution_count": 27,
     "metadata": {},
     "output_type": "execute_result"
    }
   ],
   "source": [
    "# pyspark code to know the size of the pyspark dtaframe in bytes\n",
    "spark._jsparkSession.sessionState().executePlan(netflix._jdf.queryExecution().logical()).optimizedPlan().stats().sizeInBytes()\n"
   ]
  },
  {
   "cell_type": "markdown",
   "id": "8bb9079d",
   "metadata": {},
   "source": [
    "The Pyspark dataframe for decision tree occupies 1.39 GB of memory to be fed in decision tree classifier"
   ]
  },
  {
   "cell_type": "code",
   "execution_count": 29,
   "id": "cfd02770",
   "metadata": {},
   "outputs": [
    {
     "name": "stdout",
     "output_type": "stream",
     "text": [
      "time taken to split the dataframe is: 0:00:00.046781\n"
     ]
    }
   ],
   "source": [
    "#split the data set into 80% training set and 20% test set.\n",
    "start = datetime.now()\n",
    "\n",
    "[trainingData, testData] = netflix.randomSplit([0.8, 0.2])\n",
    "print('time taken to split the dataframe is:' ,datetime.now() - start)"
   ]
  },
  {
   "cell_type": "code",
   "execution_count": 30,
   "id": "cfc0de67",
   "metadata": {},
   "outputs": [],
   "source": [
    "#create a vector assembler to transform feature columns into vectors. Rating column will not be included here.\n",
    "assembler = VectorAssembler(\n",
    "    inputCols = [\"movie_id\", \"user_id\", \"release_year\", \"rating_year\"],\n",
    "    outputCol = \"features\"\n",
    ")\n"
   ]
  },
  {
   "cell_type": "code",
   "execution_count": 31,
   "id": "6124d973",
   "metadata": {},
   "outputs": [],
   "source": [
    "# The VectorIndexer will transform categorical attributes to numerical values.\n",
    "featureIndexer = VectorIndexer(inputCol=\"features\", outputCol=\"indexedFeatures\", maxCategories=20)\n",
    "\n",
    "# create string indexers that transform string label type into numerical value.\n",
    "# the dataset has only one column which is string datatype which is 'rating_classify, and others are all numerical \n",
    "# variables\n",
    "ratingIndexer = StringIndexer(inputCol=\"rating_classify\", outputCol=\"label\")"
   ]
  },
  {
   "cell_type": "code",
   "execution_count": 32,
   "id": "530df38b",
   "metadata": {},
   "outputs": [],
   "source": [
    "#create an estimator based using decision tree\n",
    "dt = DecisionTreeClassifier(labelCol=\"label\", featuresCol=\"features\")"
   ]
  },
  {
   "cell_type": "code",
   "execution_count": 33,
   "id": "642db256",
   "metadata": {},
   "outputs": [],
   "source": [
    "#create an ML pipeline in sequence of assembler, indexer, logistic regression\n",
    "pipeline = Pipeline(stages=[ratingIndexer, assembler, dt])"
   ]
  },
  {
   "cell_type": "code",
   "execution_count": 35,
   "id": "e525eb7d",
   "metadata": {},
   "outputs": [
    {
     "name": "stdout",
     "output_type": "stream",
     "text": [
      "time taken to create the decision tree model is: 0:05:09.024245\n"
     ]
    }
   ],
   "source": [
    "# start computation time\n",
    "start = datetime.now() \n",
    "\n",
    "# creating the model after ML pipelins is established\n",
    "model = pipeline.fit(trainingData) \n",
    "\n",
    "#test the classification model and make prediction on the test data\n",
    "prediction = model.transform(testData)  \n",
    "\n",
    "# computation time after code execution\n",
    "print('time taken to create the decision tree model is:' ,datetime.now() - start) "
   ]
  },
  {
   "cell_type": "code",
   "execution_count": 39,
   "id": "79583992",
   "metadata": {},
   "outputs": [
    {
     "name": "stdout",
     "output_type": "stream",
     "text": [
      "Test Error: 44.3061126484053%\n",
      "Accuracy of the Decision Tree Classification Model is: 55.6938873515947%\n"
     ]
    }
   ],
   "source": [
    "evaluator = MulticlassClassificationEvaluator(labelCol=\"label\", predictionCol=\"prediction\",metricName=\"accuracy\")\n",
    "accuracy = evaluator.evaluate(prediction)\n",
    "print(f\"Test Error: {(1.0 - accuracy)*100}%\")\n",
    "print(f\"Accuracy of the Decision Tree Classification Model is: {accuracy *100}%\")"
   ]
  },
  {
   "cell_type": "code",
   "execution_count": 12,
   "id": "bfffe4ae",
   "metadata": {},
   "outputs": [
    {
     "name": "stdout",
     "output_type": "stream",
     "text": [
      "+---------------+-----+----------------------------------------+----------+\n",
      "|rating_classify|label|probability                             |prediction|\n",
      "+---------------+-----+----------------------------------------+----------+\n",
      "|High           |0.0  |[0.577078016423587,0.4229219835764129]  |0.0       |\n",
      "|High           |0.0  |[0.577078016423587,0.4229219835764129]  |0.0       |\n",
      "|High           |0.0  |[0.577078016423587,0.4229219835764129]  |0.0       |\n",
      "|High           |0.0  |[0.577078016423587,0.4229219835764129]  |0.0       |\n",
      "|High           |0.0  |[0.577078016423587,0.4229219835764129]  |0.0       |\n",
      "|High           |0.0  |[0.577078016423587,0.4229219835764129]  |0.0       |\n",
      "|High           |0.0  |[0.577078016423587,0.4229219835764129]  |0.0       |\n",
      "|High           |0.0  |[0.577078016423587,0.4229219835764129]  |0.0       |\n",
      "|High           |0.0  |[0.577078016423587,0.4229219835764129]  |0.0       |\n",
      "|High           |0.0  |[0.577078016423587,0.4229219835764129]  |0.0       |\n",
      "|High           |0.0  |[0.577078016423587,0.4229219835764129]  |0.0       |\n",
      "|High           |0.0  |[0.577078016423587,0.4229219835764129]  |0.0       |\n",
      "|High           |0.0  |[0.577078016423587,0.4229219835764129]  |0.0       |\n",
      "|High           |0.0  |[0.577078016423587,0.4229219835764129]  |0.0       |\n",
      "|High           |0.0  |[0.577078016423587,0.4229219835764129]  |0.0       |\n",
      "|High           |0.0  |[0.577078016423587,0.4229219835764129]  |0.0       |\n",
      "|High           |0.0  |[0.577078016423587,0.4229219835764129]  |0.0       |\n",
      "|High           |0.0  |[0.577078016423587,0.4229219835764129]  |0.0       |\n",
      "|High           |0.0  |[0.577078016423587,0.4229219835764129]  |0.0       |\n",
      "|High           |0.0  |[0.577078016423587,0.4229219835764129]  |0.0       |\n",
      "|High           |0.0  |[0.577078016423587,0.4229219835764129]  |0.0       |\n",
      "|High           |0.0  |[0.577078016423587,0.4229219835764129]  |0.0       |\n",
      "|High           |0.0  |[0.577078016423587,0.4229219835764129]  |0.0       |\n",
      "|High           |0.0  |[0.577078016423587,0.4229219835764129]  |0.0       |\n",
      "|High           |0.0  |[0.577078016423587,0.4229219835764129]  |0.0       |\n",
      "|High           |0.0  |[0.577078016423587,0.4229219835764129]  |0.0       |\n",
      "|High           |0.0  |[0.577078016423587,0.4229219835764129]  |0.0       |\n",
      "|High           |0.0  |[0.577078016423587,0.4229219835764129]  |0.0       |\n",
      "|High           |0.0  |[0.577078016423587,0.4229219835764129]  |0.0       |\n",
      "|High           |0.0  |[0.577078016423587,0.4229219835764129]  |0.0       |\n",
      "|High           |0.0  |[0.577078016423587,0.4229219835764129]  |0.0       |\n",
      "|High           |0.0  |[0.577078016423587,0.4229219835764129]  |0.0       |\n",
      "|High           |0.0  |[0.577078016423587,0.4229219835764129]  |0.0       |\n",
      "|High           |0.0  |[0.577078016423587,0.4229219835764129]  |0.0       |\n",
      "|High           |0.0  |[0.577078016423587,0.4229219835764129]  |0.0       |\n",
      "|High           |0.0  |[0.577078016423587,0.4229219835764129]  |0.0       |\n",
      "|High           |0.0  |[0.577078016423587,0.4229219835764129]  |0.0       |\n",
      "|High           |0.0  |[0.577078016423587,0.4229219835764129]  |0.0       |\n",
      "|High           |0.0  |[0.577078016423587,0.4229219835764129]  |0.0       |\n",
      "|High           |0.0  |[0.577078016423587,0.4229219835764129]  |0.0       |\n",
      "|High           |0.0  |[0.577078016423587,0.4229219835764129]  |0.0       |\n",
      "|High           |0.0  |[0.577078016423587,0.4229219835764129]  |0.0       |\n",
      "|High           |0.0  |[0.577078016423587,0.4229219835764129]  |0.0       |\n",
      "|High           |0.0  |[0.577078016423587,0.4229219835764129]  |0.0       |\n",
      "|High           |0.0  |[0.577078016423587,0.4229219835764129]  |0.0       |\n",
      "|High           |0.0  |[0.577078016423587,0.4229219835764129]  |0.0       |\n",
      "|High           |0.0  |[0.577078016423587,0.4229219835764129]  |0.0       |\n",
      "|High           |0.0  |[0.577078016423587,0.4229219835764129]  |0.0       |\n",
      "|High           |0.0  |[0.577078016423587,0.4229219835764129]  |0.0       |\n",
      "|High           |0.0  |[0.577078016423587,0.4229219835764129]  |0.0       |\n",
      "|High           |0.0  |[0.577078016423587,0.4229219835764129]  |0.0       |\n",
      "|High           |0.0  |[0.577078016423587,0.4229219835764129]  |0.0       |\n",
      "|High           |0.0  |[0.577078016423587,0.4229219835764129]  |0.0       |\n",
      "|High           |0.0  |[0.577078016423587,0.4229219835764129]  |0.0       |\n",
      "|High           |0.0  |[0.577078016423587,0.4229219835764129]  |0.0       |\n",
      "|High           |0.0  |[0.577078016423587,0.4229219835764129]  |0.0       |\n",
      "|High           |0.0  |[0.577078016423587,0.4229219835764129]  |0.0       |\n",
      "|High           |0.0  |[0.577078016423587,0.4229219835764129]  |0.0       |\n",
      "|High           |0.0  |[0.577078016423587,0.4229219835764129]  |0.0       |\n",
      "|High           |0.0  |[0.577078016423587,0.4229219835764129]  |0.0       |\n",
      "|High           |0.0  |[0.577078016423587,0.4229219835764129]  |0.0       |\n",
      "|High           |0.0  |[0.577078016423587,0.4229219835764129]  |0.0       |\n",
      "|High           |0.0  |[0.577078016423587,0.4229219835764129]  |0.0       |\n",
      "|High           |0.0  |[0.577078016423587,0.4229219835764129]  |0.0       |\n",
      "|High           |0.0  |[0.577078016423587,0.4229219835764129]  |0.0       |\n",
      "|High           |0.0  |[0.577078016423587,0.4229219835764129]  |0.0       |\n",
      "|High           |0.0  |[0.5651873229318354,0.4348126770681646] |0.0       |\n",
      "|High           |0.0  |[0.45475034719617013,0.5452496528038299]|1.0       |\n",
      "|High           |0.0  |[0.5651873229318354,0.4348126770681646] |0.0       |\n",
      "|High           |0.0  |[0.45475034719617013,0.5452496528038299]|1.0       |\n",
      "|High           |0.0  |[0.5651873229318354,0.4348126770681646] |0.0       |\n",
      "|High           |0.0  |[0.45475034719617013,0.5452496528038299]|1.0       |\n",
      "|High           |0.0  |[0.5651873229318354,0.4348126770681646] |0.0       |\n",
      "|High           |0.0  |[0.5651873229318354,0.4348126770681646] |0.0       |\n",
      "|High           |0.0  |[0.45475034719617013,0.5452496528038299]|1.0       |\n",
      "|High           |0.0  |[0.5651873229318354,0.4348126770681646] |0.0       |\n",
      "|High           |0.0  |[0.5651873229318354,0.4348126770681646] |0.0       |\n",
      "|High           |0.0  |[0.5651873229318354,0.4348126770681646] |0.0       |\n",
      "|High           |0.0  |[0.45475034719617013,0.5452496528038299]|1.0       |\n",
      "|High           |0.0  |[0.5651873229318354,0.4348126770681646] |0.0       |\n",
      "|High           |0.0  |[0.45475034719617013,0.5452496528038299]|1.0       |\n",
      "|High           |0.0  |[0.5651873229318354,0.4348126770681646] |0.0       |\n",
      "|High           |0.0  |[0.45475034719617013,0.5452496528038299]|1.0       |\n",
      "|High           |0.0  |[0.45475034719617013,0.5452496528038299]|1.0       |\n",
      "|High           |0.0  |[0.5651873229318354,0.4348126770681646] |0.0       |\n",
      "|High           |0.0  |[0.45475034719617013,0.5452496528038299]|1.0       |\n",
      "|High           |0.0  |[0.5651873229318354,0.4348126770681646] |0.0       |\n",
      "|High           |0.0  |[0.5651873229318354,0.4348126770681646] |0.0       |\n",
      "|High           |0.0  |[0.45475034719617013,0.5452496528038299]|1.0       |\n",
      "|High           |0.0  |[0.5651873229318354,0.4348126770681646] |0.0       |\n",
      "|High           |0.0  |[0.5651873229318354,0.4348126770681646] |0.0       |\n",
      "|High           |0.0  |[0.45475034719617013,0.5452496528038299]|1.0       |\n",
      "|High           |0.0  |[0.45475034719617013,0.5452496528038299]|1.0       |\n",
      "|High           |0.0  |[0.5651873229318354,0.4348126770681646] |0.0       |\n",
      "|High           |0.0  |[0.45475034719617013,0.5452496528038299]|1.0       |\n",
      "|High           |0.0  |[0.45475034719617013,0.5452496528038299]|1.0       |\n",
      "|High           |0.0  |[0.45475034719617013,0.5452496528038299]|1.0       |\n",
      "|High           |0.0  |[0.5651873229318354,0.4348126770681646] |0.0       |\n",
      "|High           |0.0  |[0.45475034719617013,0.5452496528038299]|1.0       |\n",
      "|High           |0.0  |[0.45475034719617013,0.5452496528038299]|1.0       |\n",
      "|High           |0.0  |[0.45475034719617013,0.5452496528038299]|1.0       |\n",
      "|High           |0.0  |[0.5651873229318354,0.4348126770681646] |0.0       |\n",
      "|High           |0.0  |[0.5651873229318354,0.4348126770681646] |0.0       |\n",
      "|High           |0.0  |[0.5651873229318354,0.4348126770681646] |0.0       |\n",
      "|High           |0.0  |[0.45475034719617013,0.5452496528038299]|1.0       |\n",
      "|High           |0.0  |[0.5651873229318354,0.4348126770681646] |0.0       |\n",
      "|High           |0.0  |[0.45475034719617013,0.5452496528038299]|1.0       |\n",
      "|High           |0.0  |[0.5651873229318354,0.4348126770681646] |0.0       |\n",
      "|High           |0.0  |[0.45475034719617013,0.5452496528038299]|1.0       |\n",
      "|High           |0.0  |[0.45475034719617013,0.5452496528038299]|1.0       |\n",
      "|High           |0.0  |[0.5651873229318354,0.4348126770681646] |0.0       |\n",
      "|High           |0.0  |[0.45475034719617013,0.5452496528038299]|1.0       |\n",
      "|High           |0.0  |[0.45475034719617013,0.5452496528038299]|1.0       |\n",
      "|High           |0.0  |[0.5651873229318354,0.4348126770681646] |0.0       |\n",
      "|High           |0.0  |[0.5651873229318354,0.4348126770681646] |0.0       |\n",
      "|High           |0.0  |[0.5651873229318354,0.4348126770681646] |0.0       |\n",
      "|High           |0.0  |[0.45475034719617013,0.5452496528038299]|1.0       |\n",
      "|High           |0.0  |[0.45475034719617013,0.5452496528038299]|1.0       |\n",
      "|High           |0.0  |[0.5651873229318354,0.4348126770681646] |0.0       |\n",
      "|High           |0.0  |[0.5651873229318354,0.4348126770681646] |0.0       |\n",
      "|High           |0.0  |[0.5651873229318354,0.4348126770681646] |0.0       |\n",
      "|High           |0.0  |[0.5651873229318354,0.4348126770681646] |0.0       |\n",
      "|High           |0.0  |[0.45475034719617013,0.5452496528038299]|1.0       |\n",
      "|High           |0.0  |[0.5651873229318354,0.4348126770681646] |0.0       |\n",
      "|High           |0.0  |[0.45475034719617013,0.5452496528038299]|1.0       |\n",
      "|High           |0.0  |[0.45475034719617013,0.5452496528038299]|1.0       |\n",
      "|High           |0.0  |[0.5651873229318354,0.4348126770681646] |0.0       |\n",
      "|High           |0.0  |[0.5651873229318354,0.4348126770681646] |0.0       |\n",
      "|High           |0.0  |[0.5651873229318354,0.4348126770681646] |0.0       |\n",
      "|High           |0.0  |[0.45475034719617013,0.5452496528038299]|1.0       |\n",
      "|High           |0.0  |[0.5651873229318354,0.4348126770681646] |0.0       |\n",
      "|High           |0.0  |[0.5651873229318354,0.4348126770681646] |0.0       |\n",
      "|High           |0.0  |[0.5651873229318354,0.4348126770681646] |0.0       |\n",
      "|High           |0.0  |[0.5651873229318354,0.4348126770681646] |0.0       |\n",
      "|High           |0.0  |[0.45475034719617013,0.5452496528038299]|1.0       |\n",
      "|High           |0.0  |[0.45475034719617013,0.5452496528038299]|1.0       |\n",
      "|High           |0.0  |[0.45475034719617013,0.5452496528038299]|1.0       |\n",
      "|High           |0.0  |[0.5651873229318354,0.4348126770681646] |0.0       |\n",
      "|High           |0.0  |[0.45475034719617013,0.5452496528038299]|1.0       |\n",
      "|High           |0.0  |[0.45475034719617013,0.5452496528038299]|1.0       |\n",
      "|High           |0.0  |[0.5651873229318354,0.4348126770681646] |0.0       |\n",
      "|High           |0.0  |[0.5651873229318354,0.4348126770681646] |0.0       |\n",
      "|High           |0.0  |[0.45475034719617013,0.5452496528038299]|1.0       |\n",
      "|High           |0.0  |[0.45475034719617013,0.5452496528038299]|1.0       |\n",
      "|High           |0.0  |[0.45475034719617013,0.5452496528038299]|1.0       |\n",
      "|High           |0.0  |[0.5651873229318354,0.4348126770681646] |0.0       |\n",
      "|High           |0.0  |[0.5651873229318354,0.4348126770681646] |0.0       |\n",
      "|High           |0.0  |[0.5651873229318354,0.4348126770681646] |0.0       |\n",
      "|High           |0.0  |[0.5651873229318354,0.4348126770681646] |0.0       |\n",
      "|High           |0.0  |[0.45475034719617013,0.5452496528038299]|1.0       |\n",
      "|High           |0.0  |[0.5651873229318354,0.4348126770681646] |0.0       |\n",
      "|High           |0.0  |[0.5651873229318354,0.4348126770681646] |0.0       |\n",
      "|High           |0.0  |[0.5651873229318354,0.4348126770681646] |0.0       |\n",
      "|High           |0.0  |[0.5651873229318354,0.4348126770681646] |0.0       |\n",
      "|High           |0.0  |[0.5651873229318354,0.4348126770681646] |0.0       |\n",
      "|High           |0.0  |[0.45475034719617013,0.5452496528038299]|1.0       |\n",
      "|High           |0.0  |[0.5651873229318354,0.4348126770681646] |0.0       |\n",
      "|High           |0.0  |[0.45475034719617013,0.5452496528038299]|1.0       |\n",
      "|High           |0.0  |[0.5651873229318354,0.4348126770681646] |0.0       |\n",
      "|High           |0.0  |[0.5651873229318354,0.4348126770681646] |0.0       |\n",
      "|High           |0.0  |[0.5651873229318354,0.4348126770681646] |0.0       |\n",
      "|High           |0.0  |[0.45475034719617013,0.5452496528038299]|1.0       |\n",
      "|High           |0.0  |[0.5651873229318354,0.4348126770681646] |0.0       |\n",
      "|High           |0.0  |[0.45475034719617013,0.5452496528038299]|1.0       |\n",
      "|High           |0.0  |[0.5651873229318354,0.4348126770681646] |0.0       |\n",
      "|High           |0.0  |[0.45475034719617013,0.5452496528038299]|1.0       |\n",
      "|High           |0.0  |[0.45475034719617013,0.5452496528038299]|1.0       |\n",
      "|High           |0.0  |[0.45475034719617013,0.5452496528038299]|1.0       |\n",
      "|High           |0.0  |[0.45475034719617013,0.5452496528038299]|1.0       |\n",
      "|High           |0.0  |[0.5651873229318354,0.4348126770681646] |0.0       |\n",
      "|High           |0.0  |[0.5651873229318354,0.4348126770681646] |0.0       |\n",
      "|High           |0.0  |[0.5651873229318354,0.4348126770681646] |0.0       |\n",
      "|High           |0.0  |[0.45475034719617013,0.5452496528038299]|1.0       |\n",
      "|High           |0.0  |[0.45475034719617013,0.5452496528038299]|1.0       |\n",
      "|High           |0.0  |[0.45475034719617013,0.5452496528038299]|1.0       |\n",
      "|High           |0.0  |[0.5651873229318354,0.4348126770681646] |0.0       |\n",
      "|High           |0.0  |[0.5651873229318354,0.4348126770681646] |0.0       |\n",
      "|High           |0.0  |[0.45475034719617013,0.5452496528038299]|1.0       |\n",
      "|High           |0.0  |[0.5651873229318354,0.4348126770681646] |0.0       |\n",
      "|High           |0.0  |[0.5651873229318354,0.4348126770681646] |0.0       |\n",
      "|High           |0.0  |[0.5651873229318354,0.4348126770681646] |0.0       |\n",
      "|High           |0.0  |[0.45475034719617013,0.5452496528038299]|1.0       |\n",
      "|High           |0.0  |[0.45475034719617013,0.5452496528038299]|1.0       |\n",
      "|High           |0.0  |[0.5651873229318354,0.4348126770681646] |0.0       |\n",
      "|High           |0.0  |[0.45475034719617013,0.5452496528038299]|1.0       |\n",
      "|High           |0.0  |[0.45475034719617013,0.5452496528038299]|1.0       |\n",
      "|High           |0.0  |[0.45475034719617013,0.5452496528038299]|1.0       |\n",
      "|High           |0.0  |[0.5651873229318354,0.4348126770681646] |0.0       |\n",
      "|High           |0.0  |[0.5651873229318354,0.4348126770681646] |0.0       |\n",
      "|High           |0.0  |[0.5651873229318354,0.4348126770681646] |0.0       |\n",
      "|High           |0.0  |[0.5651873229318354,0.4348126770681646] |0.0       |\n",
      "|High           |0.0  |[0.5651873229318354,0.4348126770681646] |0.0       |\n",
      "|High           |0.0  |[0.45475034719617013,0.5452496528038299]|1.0       |\n",
      "|High           |0.0  |[0.5651873229318354,0.4348126770681646] |0.0       |\n",
      "|High           |0.0  |[0.5651873229318354,0.4348126770681646] |0.0       |\n",
      "|High           |0.0  |[0.5651873229318354,0.4348126770681646] |0.0       |\n",
      "|High           |0.0  |[0.5651873229318354,0.4348126770681646] |0.0       |\n",
      "|High           |0.0  |[0.5651873229318354,0.4348126770681646] |0.0       |\n",
      "|High           |0.0  |[0.5651873229318354,0.4348126770681646] |0.0       |\n",
      "|High           |0.0  |[0.45475034719617013,0.5452496528038299]|1.0       |\n",
      "|High           |0.0  |[0.5651873229318354,0.4348126770681646] |0.0       |\n",
      "|High           |0.0  |[0.45475034719617013,0.5452496528038299]|1.0       |\n",
      "|High           |0.0  |[0.5651873229318354,0.4348126770681646] |0.0       |\n",
      "|High           |0.0  |[0.45475034719617013,0.5452496528038299]|1.0       |\n",
      "|High           |0.0  |[0.5651873229318354,0.4348126770681646] |0.0       |\n",
      "|High           |0.0  |[0.45475034719617013,0.5452496528038299]|1.0       |\n",
      "|High           |0.0  |[0.45475034719617013,0.5452496528038299]|1.0       |\n",
      "|High           |0.0  |[0.45475034719617013,0.5452496528038299]|1.0       |\n",
      "|High           |0.0  |[0.5651873229318354,0.4348126770681646] |0.0       |\n",
      "|High           |0.0  |[0.45475034719617013,0.5452496528038299]|1.0       |\n",
      "|High           |0.0  |[0.45475034719617013,0.5452496528038299]|1.0       |\n",
      "|High           |0.0  |[0.45475034719617013,0.5452496528038299]|1.0       |\n",
      "|High           |0.0  |[0.5651873229318354,0.4348126770681646] |0.0       |\n",
      "|High           |0.0  |[0.5651873229318354,0.4348126770681646] |0.0       |\n",
      "|High           |0.0  |[0.45475034719617013,0.5452496528038299]|1.0       |\n",
      "|High           |0.0  |[0.5651873229318354,0.4348126770681646] |0.0       |\n",
      "|High           |0.0  |[0.5651873229318354,0.4348126770681646] |0.0       |\n",
      "|High           |0.0  |[0.5651873229318354,0.4348126770681646] |0.0       |\n",
      "|High           |0.0  |[0.45475034719617013,0.5452496528038299]|1.0       |\n",
      "|High           |0.0  |[0.5651873229318354,0.4348126770681646] |0.0       |\n",
      "|High           |0.0  |[0.5651873229318354,0.4348126770681646] |0.0       |\n",
      "|High           |0.0  |[0.45475034719617013,0.5452496528038299]|1.0       |\n",
      "|High           |0.0  |[0.5651873229318354,0.4348126770681646] |0.0       |\n",
      "|High           |0.0  |[0.5651873229318354,0.4348126770681646] |0.0       |\n",
      "|High           |0.0  |[0.45475034719617013,0.5452496528038299]|1.0       |\n",
      "|High           |0.0  |[0.5651873229318354,0.4348126770681646] |0.0       |\n",
      "|High           |0.0  |[0.45475034719617013,0.5452496528038299]|1.0       |\n",
      "|High           |0.0  |[0.5651873229318354,0.4348126770681646] |0.0       |\n",
      "|High           |0.0  |[0.5651873229318354,0.4348126770681646] |0.0       |\n",
      "|High           |0.0  |[0.5651873229318354,0.4348126770681646] |0.0       |\n",
      "|High           |0.0  |[0.5651873229318354,0.4348126770681646] |0.0       |\n",
      "|High           |0.0  |[0.45475034719617013,0.5452496528038299]|1.0       |\n",
      "|High           |0.0  |[0.5651873229318354,0.4348126770681646] |0.0       |\n",
      "|High           |0.0  |[0.45475034719617013,0.5452496528038299]|1.0       |\n",
      "|High           |0.0  |[0.45475034719617013,0.5452496528038299]|1.0       |\n",
      "|High           |0.0  |[0.5651873229318354,0.4348126770681646] |0.0       |\n",
      "|High           |0.0  |[0.5651873229318354,0.4348126770681646] |0.0       |\n",
      "|High           |0.0  |[0.5651873229318354,0.4348126770681646] |0.0       |\n",
      "|High           |0.0  |[0.5651873229318354,0.4348126770681646] |0.0       |\n",
      "|High           |0.0  |[0.5651873229318354,0.4348126770681646] |0.0       |\n",
      "|High           |0.0  |[0.5651873229318354,0.4348126770681646] |0.0       |\n",
      "|High           |0.0  |[0.5651873229318354,0.4348126770681646] |0.0       |\n",
      "|High           |0.0  |[0.45475034719617013,0.5452496528038299]|1.0       |\n",
      "|High           |0.0  |[0.45475034719617013,0.5452496528038299]|1.0       |\n",
      "|High           |0.0  |[0.5651873229318354,0.4348126770681646] |0.0       |\n",
      "|High           |0.0  |[0.5651873229318354,0.4348126770681646] |0.0       |\n",
      "|High           |0.0  |[0.45475034719617013,0.5452496528038299]|1.0       |\n",
      "|High           |0.0  |[0.45475034719617013,0.5452496528038299]|1.0       |\n",
      "|High           |0.0  |[0.45475034719617013,0.5452496528038299]|1.0       |\n",
      "|High           |0.0  |[0.45475034719617013,0.5452496528038299]|1.0       |\n",
      "|High           |0.0  |[0.45475034719617013,0.5452496528038299]|1.0       |\n",
      "|High           |0.0  |[0.5651873229318354,0.4348126770681646] |0.0       |\n",
      "|High           |0.0  |[0.45475034719617013,0.5452496528038299]|1.0       |\n",
      "|High           |0.0  |[0.45475034719617013,0.5452496528038299]|1.0       |\n",
      "|High           |0.0  |[0.5651873229318354,0.4348126770681646] |0.0       |\n",
      "|High           |0.0  |[0.45475034719617013,0.5452496528038299]|1.0       |\n",
      "|High           |0.0  |[0.45475034719617013,0.5452496528038299]|1.0       |\n",
      "|High           |0.0  |[0.45475034719617013,0.5452496528038299]|1.0       |\n",
      "|High           |0.0  |[0.5651873229318354,0.4348126770681646] |0.0       |\n",
      "|High           |0.0  |[0.5651873229318354,0.4348126770681646] |0.0       |\n",
      "|High           |0.0  |[0.5651873229318354,0.4348126770681646] |0.0       |\n",
      "|High           |0.0  |[0.45475034719617013,0.5452496528038299]|1.0       |\n",
      "|High           |0.0  |[0.5651873229318354,0.4348126770681646] |0.0       |\n",
      "|High           |0.0  |[0.5651873229318354,0.4348126770681646] |0.0       |\n",
      "|High           |0.0  |[0.5651873229318354,0.4348126770681646] |0.0       |\n",
      "|High           |0.0  |[0.45475034719617013,0.5452496528038299]|1.0       |\n",
      "|High           |0.0  |[0.5651873229318354,0.4348126770681646] |0.0       |\n",
      "|High           |0.0  |[0.45475034719617013,0.5452496528038299]|1.0       |\n",
      "|High           |0.0  |[0.45475034719617013,0.5452496528038299]|1.0       |\n",
      "|High           |0.0  |[0.45475034719617013,0.5452496528038299]|1.0       |\n",
      "|High           |0.0  |[0.45475034719617013,0.5452496528038299]|1.0       |\n",
      "|High           |0.0  |[0.45475034719617013,0.5452496528038299]|1.0       |\n",
      "|High           |0.0  |[0.45475034719617013,0.5452496528038299]|1.0       |\n",
      "|High           |0.0  |[0.5651873229318354,0.4348126770681646] |0.0       |\n",
      "|High           |0.0  |[0.5651873229318354,0.4348126770681646] |0.0       |\n",
      "|High           |0.0  |[0.45475034719617013,0.5452496528038299]|1.0       |\n",
      "|High           |0.0  |[0.45475034719617013,0.5452496528038299]|1.0       |\n",
      "|High           |0.0  |[0.5651873229318354,0.4348126770681646] |0.0       |\n",
      "|High           |0.0  |[0.5651873229318354,0.4348126770681646] |0.0       |\n",
      "|High           |0.0  |[0.45475034719617013,0.5452496528038299]|1.0       |\n",
      "|High           |0.0  |[0.45475034719617013,0.5452496528038299]|1.0       |\n",
      "|High           |0.0  |[0.5651873229318354,0.4348126770681646] |0.0       |\n",
      "|High           |0.0  |[0.45475034719617013,0.5452496528038299]|1.0       |\n",
      "|High           |0.0  |[0.5651873229318354,0.4348126770681646] |0.0       |\n",
      "|High           |0.0  |[0.45475034719617013,0.5452496528038299]|1.0       |\n",
      "|High           |0.0  |[0.5651873229318354,0.4348126770681646] |0.0       |\n",
      "|High           |0.0  |[0.45475034719617013,0.5452496528038299]|1.0       |\n",
      "|High           |0.0  |[0.45475034719617013,0.5452496528038299]|1.0       |\n",
      "|High           |0.0  |[0.5651873229318354,0.4348126770681646] |0.0       |\n",
      "|High           |0.0  |[0.5651873229318354,0.4348126770681646] |0.0       |\n",
      "|High           |0.0  |[0.5651873229318354,0.4348126770681646] |0.0       |\n",
      "|High           |0.0  |[0.5651873229318354,0.4348126770681646] |0.0       |\n",
      "|High           |0.0  |[0.45475034719617013,0.5452496528038299]|1.0       |\n",
      "|High           |0.0  |[0.5651873229318354,0.4348126770681646] |0.0       |\n",
      "|High           |0.0  |[0.45475034719617013,0.5452496528038299]|1.0       |\n",
      "|High           |0.0  |[0.5651873229318354,0.4348126770681646] |0.0       |\n",
      "|High           |0.0  |[0.5651873229318354,0.4348126770681646] |0.0       |\n",
      "|High           |0.0  |[0.45475034719617013,0.5452496528038299]|1.0       |\n",
      "|High           |0.0  |[0.45475034719617013,0.5452496528038299]|1.0       |\n",
      "|High           |0.0  |[0.45475034719617013,0.5452496528038299]|1.0       |\n",
      "|High           |0.0  |[0.5651873229318354,0.4348126770681646] |0.0       |\n",
      "|High           |0.0  |[0.5651873229318354,0.4348126770681646] |0.0       |\n",
      "|High           |0.0  |[0.45475034719617013,0.5452496528038299]|1.0       |\n",
      "|High           |0.0  |[0.5651873229318354,0.4348126770681646] |0.0       |\n",
      "|High           |0.0  |[0.5651873229318354,0.4348126770681646] |0.0       |\n",
      "|High           |0.0  |[0.5651873229318354,0.4348126770681646] |0.0       |\n",
      "|High           |0.0  |[0.5651873229318354,0.4348126770681646] |0.0       |\n",
      "|High           |0.0  |[0.45475034719617013,0.5452496528038299]|1.0       |\n",
      "|High           |0.0  |[0.5651873229318354,0.4348126770681646] |0.0       |\n",
      "|High           |0.0  |[0.45475034719617013,0.5452496528038299]|1.0       |\n",
      "|High           |0.0  |[0.45475034719617013,0.5452496528038299]|1.0       |\n",
      "|High           |0.0  |[0.5651873229318354,0.4348126770681646] |0.0       |\n",
      "|High           |0.0  |[0.5651873229318354,0.4348126770681646] |0.0       |\n",
      "|High           |0.0  |[0.45475034719617013,0.5452496528038299]|1.0       |\n",
      "|High           |0.0  |[0.45475034719617013,0.5452496528038299]|1.0       |\n",
      "|High           |0.0  |[0.45475034719617013,0.5452496528038299]|1.0       |\n",
      "|High           |0.0  |[0.5651873229318354,0.4348126770681646] |0.0       |\n",
      "|High           |0.0  |[0.45475034719617013,0.5452496528038299]|1.0       |\n",
      "|High           |0.0  |[0.45475034719617013,0.5452496528038299]|1.0       |\n",
      "|High           |0.0  |[0.45475034719617013,0.5452496528038299]|1.0       |\n",
      "|High           |0.0  |[0.5651873229318354,0.4348126770681646] |0.0       |\n",
      "|High           |0.0  |[0.5651873229318354,0.4348126770681646] |0.0       |\n",
      "|High           |0.0  |[0.5651873229318354,0.4348126770681646] |0.0       |\n",
      "|High           |0.0  |[0.45475034719617013,0.5452496528038299]|1.0       |\n",
      "|High           |0.0  |[0.45475034719617013,0.5452496528038299]|1.0       |\n",
      "|High           |0.0  |[0.5651873229318354,0.4348126770681646] |0.0       |\n",
      "|High           |0.0  |[0.5651873229318354,0.4348126770681646] |0.0       |\n",
      "|High           |0.0  |[0.5651873229318354,0.4348126770681646] |0.0       |\n",
      "|High           |0.0  |[0.5651873229318354,0.4348126770681646] |0.0       |\n",
      "|High           |0.0  |[0.5651873229318354,0.4348126770681646] |0.0       |\n",
      "|High           |0.0  |[0.5651873229318354,0.4348126770681646] |0.0       |\n",
      "|High           |0.0  |[0.45475034719617013,0.5452496528038299]|1.0       |\n",
      "|High           |0.0  |[0.45475034719617013,0.5452496528038299]|1.0       |\n",
      "|High           |0.0  |[0.45475034719617013,0.5452496528038299]|1.0       |\n",
      "|High           |0.0  |[0.45475034719617013,0.5452496528038299]|1.0       |\n",
      "|High           |0.0  |[0.45475034719617013,0.5452496528038299]|1.0       |\n",
      "|High           |0.0  |[0.45475034719617013,0.5452496528038299]|1.0       |\n",
      "|High           |0.0  |[0.5651873229318354,0.4348126770681646] |0.0       |\n",
      "|High           |0.0  |[0.5651873229318354,0.4348126770681646] |0.0       |\n",
      "|High           |0.0  |[0.5651873229318354,0.4348126770681646] |0.0       |\n",
      "|High           |0.0  |[0.5651873229318354,0.4348126770681646] |0.0       |\n",
      "|High           |0.0  |[0.45475034719617013,0.5452496528038299]|1.0       |\n",
      "|High           |0.0  |[0.45475034719617013,0.5452496528038299]|1.0       |\n",
      "|High           |0.0  |[0.5651873229318354,0.4348126770681646] |0.0       |\n",
      "|High           |0.0  |[0.45475034719617013,0.5452496528038299]|1.0       |\n",
      "|High           |0.0  |[0.45475034719617013,0.5452496528038299]|1.0       |\n",
      "|High           |0.0  |[0.45475034719617013,0.5452496528038299]|1.0       |\n",
      "|High           |0.0  |[0.5651873229318354,0.4348126770681646] |0.0       |\n",
      "|High           |0.0  |[0.5651873229318354,0.4348126770681646] |0.0       |\n",
      "|High           |0.0  |[0.5651873229318354,0.4348126770681646] |0.0       |\n",
      "|High           |0.0  |[0.45475034719617013,0.5452496528038299]|1.0       |\n",
      "|High           |0.0  |[0.5651873229318354,0.4348126770681646] |0.0       |\n",
      "|High           |0.0  |[0.45475034719617013,0.5452496528038299]|1.0       |\n",
      "|High           |0.0  |[0.5651873229318354,0.4348126770681646] |0.0       |\n",
      "|High           |0.0  |[0.5651873229318354,0.4348126770681646] |0.0       |\n",
      "|High           |0.0  |[0.5651873229318354,0.4348126770681646] |0.0       |\n",
      "|High           |0.0  |[0.45475034719617013,0.5452496528038299]|1.0       |\n",
      "|High           |0.0  |[0.5651873229318354,0.4348126770681646] |0.0       |\n",
      "|High           |0.0  |[0.5651873229318354,0.4348126770681646] |0.0       |\n",
      "|High           |0.0  |[0.5651873229318354,0.4348126770681646] |0.0       |\n",
      "|High           |0.0  |[0.45475034719617013,0.5452496528038299]|1.0       |\n",
      "|High           |0.0  |[0.45475034719617013,0.5452496528038299]|1.0       |\n",
      "|High           |0.0  |[0.45475034719617013,0.5452496528038299]|1.0       |\n",
      "|High           |0.0  |[0.45475034719617013,0.5452496528038299]|1.0       |\n",
      "|High           |0.0  |[0.45475034719617013,0.5452496528038299]|1.0       |\n",
      "|High           |0.0  |[0.45475034719617013,0.5452496528038299]|1.0       |\n",
      "|High           |0.0  |[0.5651873229318354,0.4348126770681646] |0.0       |\n",
      "|High           |0.0  |[0.5651873229318354,0.4348126770681646] |0.0       |\n",
      "|High           |0.0  |[0.5651873229318354,0.4348126770681646] |0.0       |\n",
      "|High           |0.0  |[0.5651873229318354,0.4348126770681646] |0.0       |\n",
      "|High           |0.0  |[0.5651873229318354,0.4348126770681646] |0.0       |\n",
      "|High           |0.0  |[0.45475034719617013,0.5452496528038299]|1.0       |\n",
      "|High           |0.0  |[0.45475034719617013,0.5452496528038299]|1.0       |\n",
      "|High           |0.0  |[0.5651873229318354,0.4348126770681646] |0.0       |\n",
      "|High           |0.0  |[0.45475034719617013,0.5452496528038299]|1.0       |\n",
      "|High           |0.0  |[0.5651873229318354,0.4348126770681646] |0.0       |\n",
      "|High           |0.0  |[0.5651873229318354,0.4348126770681646] |0.0       |\n",
      "|High           |0.0  |[0.5651873229318354,0.4348126770681646] |0.0       |\n",
      "|High           |0.0  |[0.45475034719617013,0.5452496528038299]|1.0       |\n",
      "|High           |0.0  |[0.5651873229318354,0.4348126770681646] |0.0       |\n",
      "|High           |0.0  |[0.5651873229318354,0.4348126770681646] |0.0       |\n",
      "|High           |0.0  |[0.45475034719617013,0.5452496528038299]|1.0       |\n",
      "|High           |0.0  |[0.45475034719617013,0.5452496528038299]|1.0       |\n",
      "|High           |0.0  |[0.5651873229318354,0.4348126770681646] |0.0       |\n",
      "|High           |0.0  |[0.5651873229318354,0.4348126770681646] |0.0       |\n",
      "|High           |0.0  |[0.45475034719617013,0.5452496528038299]|1.0       |\n",
      "|High           |0.0  |[0.5651873229318354,0.4348126770681646] |0.0       |\n",
      "|High           |0.0  |[0.45475034719617013,0.5452496528038299]|1.0       |\n",
      "|High           |0.0  |[0.45475034719617013,0.5452496528038299]|1.0       |\n",
      "|High           |0.0  |[0.5651873229318354,0.4348126770681646] |0.0       |\n",
      "|High           |0.0  |[0.45475034719617013,0.5452496528038299]|1.0       |\n",
      "|High           |0.0  |[0.5651873229318354,0.4348126770681646] |0.0       |\n",
      "|High           |0.0  |[0.45475034719617013,0.5452496528038299]|1.0       |\n",
      "|High           |0.0  |[0.5651873229318354,0.4348126770681646] |0.0       |\n",
      "|High           |0.0  |[0.45475034719617013,0.5452496528038299]|1.0       |\n",
      "|High           |0.0  |[0.5651873229318354,0.4348126770681646] |0.0       |\n",
      "|High           |0.0  |[0.5651873229318354,0.4348126770681646] |0.0       |\n",
      "|High           |0.0  |[0.45475034719617013,0.5452496528038299]|1.0       |\n",
      "|High           |0.0  |[0.45475034719617013,0.5452496528038299]|1.0       |\n",
      "|High           |0.0  |[0.5651873229318354,0.4348126770681646] |0.0       |\n",
      "|High           |0.0  |[0.45475034719617013,0.5452496528038299]|1.0       |\n",
      "|High           |0.0  |[0.5651873229318354,0.4348126770681646] |0.0       |\n",
      "|High           |0.0  |[0.5651873229318354,0.4348126770681646] |0.0       |\n",
      "|High           |0.0  |[0.5651873229318354,0.4348126770681646] |0.0       |\n",
      "|High           |0.0  |[0.5651873229318354,0.4348126770681646] |0.0       |\n",
      "|High           |0.0  |[0.5651873229318354,0.4348126770681646] |0.0       |\n",
      "|High           |0.0  |[0.5651873229318354,0.4348126770681646] |0.0       |\n",
      "|High           |0.0  |[0.5651873229318354,0.4348126770681646] |0.0       |\n",
      "|High           |0.0  |[0.5651873229318354,0.4348126770681646] |0.0       |\n",
      "|High           |0.0  |[0.5651873229318354,0.4348126770681646] |0.0       |\n",
      "|High           |0.0  |[0.45475034719617013,0.5452496528038299]|1.0       |\n",
      "|High           |0.0  |[0.45475034719617013,0.5452496528038299]|1.0       |\n",
      "|High           |0.0  |[0.5651873229318354,0.4348126770681646] |0.0       |\n",
      "|High           |0.0  |[0.45475034719617013,0.5452496528038299]|1.0       |\n",
      "|High           |0.0  |[0.45475034719617013,0.5452496528038299]|1.0       |\n",
      "|High           |0.0  |[0.5651873229318354,0.4348126770681646] |0.0       |\n",
      "|High           |0.0  |[0.45475034719617013,0.5452496528038299]|1.0       |\n",
      "|High           |0.0  |[0.5651873229318354,0.4348126770681646] |0.0       |\n",
      "|High           |0.0  |[0.45475034719617013,0.5452496528038299]|1.0       |\n",
      "|High           |0.0  |[0.45475034719617013,0.5452496528038299]|1.0       |\n",
      "|High           |0.0  |[0.45475034719617013,0.5452496528038299]|1.0       |\n",
      "|High           |0.0  |[0.45475034719617013,0.5452496528038299]|1.0       |\n",
      "|High           |0.0  |[0.45475034719617013,0.5452496528038299]|1.0       |\n",
      "|High           |0.0  |[0.45475034719617013,0.5452496528038299]|1.0       |\n",
      "|High           |0.0  |[0.45475034719617013,0.5452496528038299]|1.0       |\n",
      "|High           |0.0  |[0.45475034719617013,0.5452496528038299]|1.0       |\n",
      "|High           |0.0  |[0.5651873229318354,0.4348126770681646] |0.0       |\n",
      "|High           |0.0  |[0.45475034719617013,0.5452496528038299]|1.0       |\n",
      "|High           |0.0  |[0.5651873229318354,0.4348126770681646] |0.0       |\n",
      "|High           |0.0  |[0.5651873229318354,0.4348126770681646] |0.0       |\n",
      "|High           |0.0  |[0.5651873229318354,0.4348126770681646] |0.0       |\n",
      "|High           |0.0  |[0.45475034719617013,0.5452496528038299]|1.0       |\n",
      "|High           |0.0  |[0.45475034719617013,0.5452496528038299]|1.0       |\n",
      "|High           |0.0  |[0.45475034719617013,0.5452496528038299]|1.0       |\n",
      "|High           |0.0  |[0.45475034719617013,0.5452496528038299]|1.0       |\n",
      "|High           |0.0  |[0.45475034719617013,0.5452496528038299]|1.0       |\n",
      "|High           |0.0  |[0.45475034719617013,0.5452496528038299]|1.0       |\n",
      "|High           |0.0  |[0.5651873229318354,0.4348126770681646] |0.0       |\n",
      "|High           |0.0  |[0.5651873229318354,0.4348126770681646] |0.0       |\n",
      "|High           |0.0  |[0.5651873229318354,0.4348126770681646] |0.0       |\n",
      "|High           |0.0  |[0.45475034719617013,0.5452496528038299]|1.0       |\n",
      "|High           |0.0  |[0.45475034719617013,0.5452496528038299]|1.0       |\n",
      "|High           |0.0  |[0.45475034719617013,0.5452496528038299]|1.0       |\n",
      "|High           |0.0  |[0.5651873229318354,0.4348126770681646] |0.0       |\n",
      "|High           |0.0  |[0.45475034719617013,0.5452496528038299]|1.0       |\n",
      "|High           |0.0  |[0.45475034719617013,0.5452496528038299]|1.0       |\n",
      "|High           |0.0  |[0.5651873229318354,0.4348126770681646] |0.0       |\n",
      "|High           |0.0  |[0.5651873229318354,0.4348126770681646] |0.0       |\n",
      "|High           |0.0  |[0.5651873229318354,0.4348126770681646] |0.0       |\n",
      "|High           |0.0  |[0.5651873229318354,0.4348126770681646] |0.0       |\n",
      "|High           |0.0  |[0.45475034719617013,0.5452496528038299]|1.0       |\n",
      "|High           |0.0  |[0.5651873229318354,0.4348126770681646] |0.0       |\n",
      "|High           |0.0  |[0.5651873229318354,0.4348126770681646] |0.0       |\n",
      "|High           |0.0  |[0.45475034719617013,0.5452496528038299]|1.0       |\n",
      "|High           |0.0  |[0.5651873229318354,0.4348126770681646] |0.0       |\n",
      "|High           |0.0  |[0.45475034719617013,0.5452496528038299]|1.0       |\n",
      "|High           |0.0  |[0.5651873229318354,0.4348126770681646] |0.0       |\n",
      "|High           |0.0  |[0.5651873229318354,0.4348126770681646] |0.0       |\n",
      "|High           |0.0  |[0.5651873229318354,0.4348126770681646] |0.0       |\n",
      "|High           |0.0  |[0.5651873229318354,0.4348126770681646] |0.0       |\n",
      "|High           |0.0  |[0.5651873229318354,0.4348126770681646] |0.0       |\n",
      "|High           |0.0  |[0.5651873229318354,0.4348126770681646] |0.0       |\n",
      "|High           |0.0  |[0.5651873229318354,0.4348126770681646] |0.0       |\n",
      "|High           |0.0  |[0.5651873229318354,0.4348126770681646] |0.0       |\n",
      "|High           |0.0  |[0.45475034719617013,0.5452496528038299]|1.0       |\n",
      "|High           |0.0  |[0.45475034719617013,0.5452496528038299]|1.0       |\n",
      "|High           |0.0  |[0.5651873229318354,0.4348126770681646] |0.0       |\n",
      "|High           |0.0  |[0.5651873229318354,0.4348126770681646] |0.0       |\n",
      "|High           |0.0  |[0.45475034719617013,0.5452496528038299]|1.0       |\n",
      "|High           |0.0  |[0.45475034719617013,0.5452496528038299]|1.0       |\n",
      "|High           |0.0  |[0.5651873229318354,0.4348126770681646] |0.0       |\n",
      "|High           |0.0  |[0.45475034719617013,0.5452496528038299]|1.0       |\n",
      "|High           |0.0  |[0.5651873229318354,0.4348126770681646] |0.0       |\n",
      "|High           |0.0  |[0.45475034719617013,0.5452496528038299]|1.0       |\n",
      "|High           |0.0  |[0.5651873229318354,0.4348126770681646] |0.0       |\n",
      "|High           |0.0  |[0.5651873229318354,0.4348126770681646] |0.0       |\n",
      "|High           |0.0  |[0.5651873229318354,0.4348126770681646] |0.0       |\n",
      "|High           |0.0  |[0.45475034719617013,0.5452496528038299]|1.0       |\n",
      "|High           |0.0  |[0.45475034719617013,0.5452496528038299]|1.0       |\n",
      "|High           |0.0  |[0.5651873229318354,0.4348126770681646] |0.0       |\n",
      "|High           |0.0  |[0.5651873229318354,0.4348126770681646] |0.0       |\n",
      "|High           |0.0  |[0.5651873229318354,0.4348126770681646] |0.0       |\n",
      "|High           |0.0  |[0.45475034719617013,0.5452496528038299]|1.0       |\n",
      "|High           |0.0  |[0.45475034719617013,0.5452496528038299]|1.0       |\n",
      "|High           |0.0  |[0.5651873229318354,0.4348126770681646] |0.0       |\n",
      "|High           |0.0  |[0.45475034719617013,0.5452496528038299]|1.0       |\n",
      "|High           |0.0  |[0.5651873229318354,0.4348126770681646] |0.0       |\n",
      "|High           |0.0  |[0.45475034719617013,0.5452496528038299]|1.0       |\n",
      "|High           |0.0  |[0.45475034719617013,0.5452496528038299]|1.0       |\n",
      "|High           |0.0  |[0.45475034719617013,0.5452496528038299]|1.0       |\n",
      "|High           |0.0  |[0.45475034719617013,0.5452496528038299]|1.0       |\n",
      "|High           |0.0  |[0.5651873229318354,0.4348126770681646] |0.0       |\n",
      "|High           |0.0  |[0.45475034719617013,0.5452496528038299]|1.0       |\n",
      "|High           |0.0  |[0.45475034719617013,0.5452496528038299]|1.0       |\n",
      "|High           |0.0  |[0.5651873229318354,0.4348126770681646] |0.0       |\n",
      "|High           |0.0  |[0.5651873229318354,0.4348126770681646] |0.0       |\n",
      "|High           |0.0  |[0.5651873229318354,0.4348126770681646] |0.0       |\n",
      "|High           |0.0  |[0.45475034719617013,0.5452496528038299]|1.0       |\n",
      "|High           |0.0  |[0.45475034719617013,0.5452496528038299]|1.0       |\n",
      "|High           |0.0  |[0.45475034719617013,0.5452496528038299]|1.0       |\n",
      "|High           |0.0  |[0.5651873229318354,0.4348126770681646] |0.0       |\n",
      "|High           |0.0  |[0.5651873229318354,0.4348126770681646] |0.0       |\n",
      "|High           |0.0  |[0.5651873229318354,0.4348126770681646] |0.0       |\n",
      "|High           |0.0  |[0.5651873229318354,0.4348126770681646] |0.0       |\n",
      "|High           |0.0  |[0.5651873229318354,0.4348126770681646] |0.0       |\n",
      "|High           |0.0  |[0.5651873229318354,0.4348126770681646] |0.0       |\n",
      "|High           |0.0  |[0.5651873229318354,0.4348126770681646] |0.0       |\n",
      "|High           |0.0  |[0.5651873229318354,0.4348126770681646] |0.0       |\n",
      "|High           |0.0  |[0.5651873229318354,0.4348126770681646] |0.0       |\n",
      "|High           |0.0  |[0.5651873229318354,0.4348126770681646] |0.0       |\n",
      "|High           |0.0  |[0.5651873229318354,0.4348126770681646] |0.0       |\n",
      "|High           |0.0  |[0.5651873229318354,0.4348126770681646] |0.0       |\n",
      "|High           |0.0  |[0.577078016423587,0.4229219835764129]  |0.0       |\n",
      "|High           |0.0  |[0.577078016423587,0.4229219835764129]  |0.0       |\n",
      "|High           |0.0  |[0.577078016423587,0.4229219835764129]  |0.0       |\n",
      "|High           |0.0  |[0.577078016423587,0.4229219835764129]  |0.0       |\n",
      "|High           |0.0  |[0.577078016423587,0.4229219835764129]  |0.0       |\n",
      "|High           |0.0  |[0.577078016423587,0.4229219835764129]  |0.0       |\n",
      "|High           |0.0  |[0.577078016423587,0.4229219835764129]  |0.0       |\n",
      "|High           |0.0  |[0.577078016423587,0.4229219835764129]  |0.0       |\n",
      "|High           |0.0  |[0.577078016423587,0.4229219835764129]  |0.0       |\n",
      "|High           |0.0  |[0.577078016423587,0.4229219835764129]  |0.0       |\n",
      "|High           |0.0  |[0.577078016423587,0.4229219835764129]  |0.0       |\n",
      "|High           |0.0  |[0.577078016423587,0.4229219835764129]  |0.0       |\n",
      "|High           |0.0  |[0.577078016423587,0.4229219835764129]  |0.0       |\n",
      "|High           |0.0  |[0.577078016423587,0.4229219835764129]  |0.0       |\n",
      "|High           |0.0  |[0.577078016423587,0.4229219835764129]  |0.0       |\n",
      "|High           |0.0  |[0.577078016423587,0.4229219835764129]  |0.0       |\n",
      "|High           |0.0  |[0.577078016423587,0.4229219835764129]  |0.0       |\n",
      "|High           |0.0  |[0.577078016423587,0.4229219835764129]  |0.0       |\n",
      "|High           |0.0  |[0.577078016423587,0.4229219835764129]  |0.0       |\n",
      "|High           |0.0  |[0.577078016423587,0.4229219835764129]  |0.0       |\n",
      "|High           |0.0  |[0.577078016423587,0.4229219835764129]  |0.0       |\n",
      "|High           |0.0  |[0.577078016423587,0.4229219835764129]  |0.0       |\n",
      "|High           |0.0  |[0.577078016423587,0.4229219835764129]  |0.0       |\n",
      "|High           |0.0  |[0.577078016423587,0.4229219835764129]  |0.0       |\n",
      "|High           |0.0  |[0.577078016423587,0.4229219835764129]  |0.0       |\n",
      "|High           |0.0  |[0.577078016423587,0.4229219835764129]  |0.0       |\n",
      "|High           |0.0  |[0.577078016423587,0.4229219835764129]  |0.0       |\n",
      "|High           |0.0  |[0.577078016423587,0.4229219835764129]  |0.0       |\n",
      "|High           |0.0  |[0.577078016423587,0.4229219835764129]  |0.0       |\n",
      "|High           |0.0  |[0.577078016423587,0.4229219835764129]  |0.0       |\n",
      "|High           |0.0  |[0.577078016423587,0.4229219835764129]  |0.0       |\n",
      "|High           |0.0  |[0.577078016423587,0.4229219835764129]  |0.0       |\n",
      "|High           |0.0  |[0.577078016423587,0.4229219835764129]  |0.0       |\n",
      "|High           |0.0  |[0.577078016423587,0.4229219835764129]  |0.0       |\n",
      "|High           |0.0  |[0.577078016423587,0.4229219835764129]  |0.0       |\n",
      "|High           |0.0  |[0.577078016423587,0.4229219835764129]  |0.0       |\n",
      "|High           |0.0  |[0.577078016423587,0.4229219835764129]  |0.0       |\n",
      "|High           |0.0  |[0.577078016423587,0.4229219835764129]  |0.0       |\n",
      "|High           |0.0  |[0.577078016423587,0.4229219835764129]  |0.0       |\n",
      "|High           |0.0  |[0.577078016423587,0.4229219835764129]  |0.0       |\n",
      "|High           |0.0  |[0.577078016423587,0.4229219835764129]  |0.0       |\n",
      "|High           |0.0  |[0.577078016423587,0.4229219835764129]  |0.0       |\n",
      "|High           |0.0  |[0.577078016423587,0.4229219835764129]  |0.0       |\n",
      "|High           |0.0  |[0.577078016423587,0.4229219835764129]  |0.0       |\n",
      "|High           |0.0  |[0.577078016423587,0.4229219835764129]  |0.0       |\n",
      "|High           |0.0  |[0.577078016423587,0.4229219835764129]  |0.0       |\n",
      "|High           |0.0  |[0.577078016423587,0.4229219835764129]  |0.0       |\n",
      "|High           |0.0  |[0.577078016423587,0.4229219835764129]  |0.0       |\n",
      "|High           |0.0  |[0.577078016423587,0.4229219835764129]  |0.0       |\n",
      "|High           |0.0  |[0.577078016423587,0.4229219835764129]  |0.0       |\n",
      "|High           |0.0  |[0.577078016423587,0.4229219835764129]  |0.0       |\n",
      "|High           |0.0  |[0.577078016423587,0.4229219835764129]  |0.0       |\n",
      "|High           |0.0  |[0.577078016423587,0.4229219835764129]  |0.0       |\n",
      "|High           |0.0  |[0.577078016423587,0.4229219835764129]  |0.0       |\n",
      "|High           |0.0  |[0.577078016423587,0.4229219835764129]  |0.0       |\n",
      "|High           |0.0  |[0.577078016423587,0.4229219835764129]  |0.0       |\n",
      "|High           |0.0  |[0.5651873229318354,0.4348126770681646] |0.0       |\n",
      "|High           |0.0  |[0.5651873229318354,0.4348126770681646] |0.0       |\n",
      "|High           |0.0  |[0.45475034719617013,0.5452496528038299]|1.0       |\n",
      "|High           |0.0  |[0.5651873229318354,0.4348126770681646] |0.0       |\n",
      "|High           |0.0  |[0.5651873229318354,0.4348126770681646] |0.0       |\n",
      "|High           |0.0  |[0.5651873229318354,0.4348126770681646] |0.0       |\n",
      "|High           |0.0  |[0.45475034719617013,0.5452496528038299]|1.0       |\n",
      "|High           |0.0  |[0.5651873229318354,0.4348126770681646] |0.0       |\n",
      "|High           |0.0  |[0.5651873229318354,0.4348126770681646] |0.0       |\n",
      "|High           |0.0  |[0.5651873229318354,0.4348126770681646] |0.0       |\n",
      "|High           |0.0  |[0.5651873229318354,0.4348126770681646] |0.0       |\n",
      "|High           |0.0  |[0.5651873229318354,0.4348126770681646] |0.0       |\n",
      "|High           |0.0  |[0.5651873229318354,0.4348126770681646] |0.0       |\n",
      "|High           |0.0  |[0.5651873229318354,0.4348126770681646] |0.0       |\n",
      "|High           |0.0  |[0.5651873229318354,0.4348126770681646] |0.0       |\n",
      "|High           |0.0  |[0.5651873229318354,0.4348126770681646] |0.0       |\n",
      "|High           |0.0  |[0.5651873229318354,0.4348126770681646] |0.0       |\n",
      "|High           |0.0  |[0.5651873229318354,0.4348126770681646] |0.0       |\n",
      "|High           |0.0  |[0.5651873229318354,0.4348126770681646] |0.0       |\n",
      "|High           |0.0  |[0.45475034719617013,0.5452496528038299]|1.0       |\n",
      "|High           |0.0  |[0.5651873229318354,0.4348126770681646] |0.0       |\n",
      "|High           |0.0  |[0.5651873229318354,0.4348126770681646] |0.0       |\n",
      "|High           |0.0  |[0.5651873229318354,0.4348126770681646] |0.0       |\n",
      "|High           |0.0  |[0.45475034719617013,0.5452496528038299]|1.0       |\n",
      "|High           |0.0  |[0.5651873229318354,0.4348126770681646] |0.0       |\n",
      "|High           |0.0  |[0.5651873229318354,0.4348126770681646] |0.0       |\n",
      "|High           |0.0  |[0.5651873229318354,0.4348126770681646] |0.0       |\n",
      "|High           |0.0  |[0.5651873229318354,0.4348126770681646] |0.0       |\n",
      "|High           |0.0  |[0.5651873229318354,0.4348126770681646] |0.0       |\n",
      "|High           |0.0  |[0.5651873229318354,0.4348126770681646] |0.0       |\n",
      "|High           |0.0  |[0.5651873229318354,0.4348126770681646] |0.0       |\n",
      "|High           |0.0  |[0.5651873229318354,0.4348126770681646] |0.0       |\n",
      "|High           |0.0  |[0.5651873229318354,0.4348126770681646] |0.0       |\n",
      "|High           |0.0  |[0.5651873229318354,0.4348126770681646] |0.0       |\n",
      "|High           |0.0  |[0.5651873229318354,0.4348126770681646] |0.0       |\n",
      "|High           |0.0  |[0.5651873229318354,0.4348126770681646] |0.0       |\n",
      "|High           |0.0  |[0.5651873229318354,0.4348126770681646] |0.0       |\n",
      "|High           |0.0  |[0.5651873229318354,0.4348126770681646] |0.0       |\n",
      "|High           |0.0  |[0.5651873229318354,0.4348126770681646] |0.0       |\n",
      "|High           |0.0  |[0.5651873229318354,0.4348126770681646] |0.0       |\n",
      "|High           |0.0  |[0.5651873229318354,0.4348126770681646] |0.0       |\n",
      "|High           |0.0  |[0.5651873229318354,0.4348126770681646] |0.0       |\n",
      "|High           |0.0  |[0.5651873229318354,0.4348126770681646] |0.0       |\n",
      "|High           |0.0  |[0.5651873229318354,0.4348126770681646] |0.0       |\n",
      "|High           |0.0  |[0.5651873229318354,0.4348126770681646] |0.0       |\n",
      "|High           |0.0  |[0.5651873229318354,0.4348126770681646] |0.0       |\n",
      "|High           |0.0  |[0.5651873229318354,0.4348126770681646] |0.0       |\n",
      "|High           |0.0  |[0.5651873229318354,0.4348126770681646] |0.0       |\n",
      "|High           |0.0  |[0.5651873229318354,0.4348126770681646] |0.0       |\n",
      "|High           |0.0  |[0.5651873229318354,0.4348126770681646] |0.0       |\n",
      "|High           |0.0  |[0.45475034719617013,0.5452496528038299]|1.0       |\n",
      "|High           |0.0  |[0.5651873229318354,0.4348126770681646] |0.0       |\n",
      "|High           |0.0  |[0.5651873229318354,0.4348126770681646] |0.0       |\n",
      "|High           |0.0  |[0.45475034719617013,0.5452496528038299]|1.0       |\n",
      "|High           |0.0  |[0.5651873229318354,0.4348126770681646] |0.0       |\n",
      "|High           |0.0  |[0.5651873229318354,0.4348126770681646] |0.0       |\n",
      "|High           |0.0  |[0.5651873229318354,0.4348126770681646] |0.0       |\n",
      "|High           |0.0  |[0.5651873229318354,0.4348126770681646] |0.0       |\n",
      "|High           |0.0  |[0.45475034719617013,0.5452496528038299]|1.0       |\n",
      "|High           |0.0  |[0.5651873229318354,0.4348126770681646] |0.0       |\n",
      "|High           |0.0  |[0.5651873229318354,0.4348126770681646] |0.0       |\n",
      "|High           |0.0  |[0.5651873229318354,0.4348126770681646] |0.0       |\n",
      "|High           |0.0  |[0.5651873229318354,0.4348126770681646] |0.0       |\n",
      "|High           |0.0  |[0.5651873229318354,0.4348126770681646] |0.0       |\n",
      "|High           |0.0  |[0.5651873229318354,0.4348126770681646] |0.0       |\n",
      "|High           |0.0  |[0.5651873229318354,0.4348126770681646] |0.0       |\n",
      "|High           |0.0  |[0.5651873229318354,0.4348126770681646] |0.0       |\n",
      "|High           |0.0  |[0.5651873229318354,0.4348126770681646] |0.0       |\n",
      "|High           |0.0  |[0.5651873229318354,0.4348126770681646] |0.0       |\n",
      "|High           |0.0  |[0.45475034719617013,0.5452496528038299]|1.0       |\n",
      "|High           |0.0  |[0.5651873229318354,0.4348126770681646] |0.0       |\n",
      "|High           |0.0  |[0.5651873229318354,0.4348126770681646] |0.0       |\n",
      "|High           |0.0  |[0.5651873229318354,0.4348126770681646] |0.0       |\n",
      "|High           |0.0  |[0.5651873229318354,0.4348126770681646] |0.0       |\n",
      "|High           |0.0  |[0.5651873229318354,0.4348126770681646] |0.0       |\n",
      "|High           |0.0  |[0.5651873229318354,0.4348126770681646] |0.0       |\n",
      "|High           |0.0  |[0.5651873229318354,0.4348126770681646] |0.0       |\n",
      "|High           |0.0  |[0.5651873229318354,0.4348126770681646] |0.0       |\n",
      "|High           |0.0  |[0.5651873229318354,0.4348126770681646] |0.0       |\n",
      "|High           |0.0  |[0.45475034719617013,0.5452496528038299]|1.0       |\n",
      "|High           |0.0  |[0.5651873229318354,0.4348126770681646] |0.0       |\n",
      "|High           |0.0  |[0.5651873229318354,0.4348126770681646] |0.0       |\n",
      "|High           |0.0  |[0.5651873229318354,0.4348126770681646] |0.0       |\n",
      "|High           |0.0  |[0.45475034719617013,0.5452496528038299]|1.0       |\n",
      "|High           |0.0  |[0.5651873229318354,0.4348126770681646] |0.0       |\n",
      "|High           |0.0  |[0.5651873229318354,0.4348126770681646] |0.0       |\n",
      "|High           |0.0  |[0.5651873229318354,0.4348126770681646] |0.0       |\n",
      "|High           |0.0  |[0.5651873229318354,0.4348126770681646] |0.0       |\n",
      "|High           |0.0  |[0.5651873229318354,0.4348126770681646] |0.0       |\n",
      "|High           |0.0  |[0.5651873229318354,0.4348126770681646] |0.0       |\n",
      "|High           |0.0  |[0.5651873229318354,0.4348126770681646] |0.0       |\n",
      "|High           |0.0  |[0.5651873229318354,0.4348126770681646] |0.0       |\n",
      "|High           |0.0  |[0.45475034719617013,0.5452496528038299]|1.0       |\n",
      "|High           |0.0  |[0.5651873229318354,0.4348126770681646] |0.0       |\n",
      "|High           |0.0  |[0.5651873229318354,0.4348126770681646] |0.0       |\n",
      "|High           |0.0  |[0.5651873229318354,0.4348126770681646] |0.0       |\n",
      "|High           |0.0  |[0.5651873229318354,0.4348126770681646] |0.0       |\n",
      "|High           |0.0  |[0.5651873229318354,0.4348126770681646] |0.0       |\n",
      "|High           |0.0  |[0.5651873229318354,0.4348126770681646] |0.0       |\n",
      "|High           |0.0  |[0.5651873229318354,0.4348126770681646] |0.0       |\n",
      "|High           |0.0  |[0.5651873229318354,0.4348126770681646] |0.0       |\n",
      "|High           |0.0  |[0.5651873229318354,0.4348126770681646] |0.0       |\n",
      "|High           |0.0  |[0.5651873229318354,0.4348126770681646] |0.0       |\n",
      "|High           |0.0  |[0.5651873229318354,0.4348126770681646] |0.0       |\n",
      "|High           |0.0  |[0.5651873229318354,0.4348126770681646] |0.0       |\n",
      "|High           |0.0  |[0.5651873229318354,0.4348126770681646] |0.0       |\n",
      "|High           |0.0  |[0.5651873229318354,0.4348126770681646] |0.0       |\n",
      "|High           |0.0  |[0.5251981024771657,0.47480189752283425]|0.0       |\n",
      "|High           |0.0  |[0.5651873229318354,0.4348126770681646] |0.0       |\n",
      "|High           |0.0  |[0.5651873229318354,0.4348126770681646] |0.0       |\n",
      "|High           |0.0  |[0.577078016423587,0.4229219835764129]  |0.0       |\n",
      "|High           |0.0  |[0.577078016423587,0.4229219835764129]  |0.0       |\n",
      "|High           |0.0  |[0.577078016423587,0.4229219835764129]  |0.0       |\n",
      "|High           |0.0  |[0.577078016423587,0.4229219835764129]  |0.0       |\n",
      "|High           |0.0  |[0.577078016423587,0.4229219835764129]  |0.0       |\n",
      "|High           |0.0  |[0.577078016423587,0.4229219835764129]  |0.0       |\n",
      "|High           |0.0  |[0.577078016423587,0.4229219835764129]  |0.0       |\n",
      "|High           |0.0  |[0.577078016423587,0.4229219835764129]  |0.0       |\n",
      "|High           |0.0  |[0.577078016423587,0.4229219835764129]  |0.0       |\n",
      "|High           |0.0  |[0.577078016423587,0.4229219835764129]  |0.0       |\n",
      "|High           |0.0  |[0.577078016423587,0.4229219835764129]  |0.0       |\n",
      "|High           |0.0  |[0.577078016423587,0.4229219835764129]  |0.0       |\n",
      "|High           |0.0  |[0.577078016423587,0.4229219835764129]  |0.0       |\n",
      "|High           |0.0  |[0.577078016423587,0.4229219835764129]  |0.0       |\n",
      "|High           |0.0  |[0.577078016423587,0.4229219835764129]  |0.0       |\n",
      "|High           |0.0  |[0.577078016423587,0.4229219835764129]  |0.0       |\n",
      "|High           |0.0  |[0.577078016423587,0.4229219835764129]  |0.0       |\n",
      "|High           |0.0  |[0.577078016423587,0.4229219835764129]  |0.0       |\n",
      "|High           |0.0  |[0.577078016423587,0.4229219835764129]  |0.0       |\n",
      "|High           |0.0  |[0.577078016423587,0.4229219835764129]  |0.0       |\n",
      "|High           |0.0  |[0.5651873229318354,0.4348126770681646] |0.0       |\n",
      "|High           |0.0  |[0.5651873229318354,0.4348126770681646] |0.0       |\n",
      "|High           |0.0  |[0.45475034719617013,0.5452496528038299]|1.0       |\n",
      "|High           |0.0  |[0.45475034719617013,0.5452496528038299]|1.0       |\n",
      "|High           |0.0  |[0.45475034719617013,0.5452496528038299]|1.0       |\n",
      "|High           |0.0  |[0.45475034719617013,0.5452496528038299]|1.0       |\n",
      "|High           |0.0  |[0.5651873229318354,0.4348126770681646] |0.0       |\n",
      "|High           |0.0  |[0.5651873229318354,0.4348126770681646] |0.0       |\n",
      "|High           |0.0  |[0.45475034719617013,0.5452496528038299]|1.0       |\n",
      "|High           |0.0  |[0.5651873229318354,0.4348126770681646] |0.0       |\n",
      "|High           |0.0  |[0.45475034719617013,0.5452496528038299]|1.0       |\n",
      "|High           |0.0  |[0.5651873229318354,0.4348126770681646] |0.0       |\n",
      "|High           |0.0  |[0.45475034719617013,0.5452496528038299]|1.0       |\n",
      "|High           |0.0  |[0.45475034719617013,0.5452496528038299]|1.0       |\n",
      "|High           |0.0  |[0.45475034719617013,0.5452496528038299]|1.0       |\n",
      "|High           |0.0  |[0.45475034719617013,0.5452496528038299]|1.0       |\n",
      "|High           |0.0  |[0.45475034719617013,0.5452496528038299]|1.0       |\n",
      "|High           |0.0  |[0.5651873229318354,0.4348126770681646] |0.0       |\n",
      "|High           |0.0  |[0.5651873229318354,0.4348126770681646] |0.0       |\n",
      "|High           |0.0  |[0.5651873229318354,0.4348126770681646] |0.0       |\n",
      "|High           |0.0  |[0.45475034719617013,0.5452496528038299]|1.0       |\n",
      "|High           |0.0  |[0.5651873229318354,0.4348126770681646] |0.0       |\n",
      "|High           |0.0  |[0.5651873229318354,0.4348126770681646] |0.0       |\n",
      "|High           |0.0  |[0.45475034719617013,0.5452496528038299]|1.0       |\n",
      "|High           |0.0  |[0.5651873229318354,0.4348126770681646] |0.0       |\n",
      "|High           |0.0  |[0.45475034719617013,0.5452496528038299]|1.0       |\n",
      "|High           |0.0  |[0.5651873229318354,0.4348126770681646] |0.0       |\n",
      "|High           |0.0  |[0.5651873229318354,0.4348126770681646] |0.0       |\n",
      "|High           |0.0  |[0.5651873229318354,0.4348126770681646] |0.0       |\n",
      "|High           |0.0  |[0.5651873229318354,0.4348126770681646] |0.0       |\n",
      "|High           |0.0  |[0.5651873229318354,0.4348126770681646] |0.0       |\n",
      "|High           |0.0  |[0.5651873229318354,0.4348126770681646] |0.0       |\n",
      "|High           |0.0  |[0.5651873229318354,0.4348126770681646] |0.0       |\n",
      "|High           |0.0  |[0.5651873229318354,0.4348126770681646] |0.0       |\n",
      "|High           |0.0  |[0.5651873229318354,0.4348126770681646] |0.0       |\n",
      "|High           |0.0  |[0.5651873229318354,0.4348126770681646] |0.0       |\n",
      "|High           |0.0  |[0.5651873229318354,0.4348126770681646] |0.0       |\n",
      "|High           |0.0  |[0.45475034719617013,0.5452496528038299]|1.0       |\n",
      "|High           |0.0  |[0.5651873229318354,0.4348126770681646] |0.0       |\n",
      "|High           |0.0  |[0.45475034719617013,0.5452496528038299]|1.0       |\n",
      "|High           |0.0  |[0.5651873229318354,0.4348126770681646] |0.0       |\n",
      "|High           |0.0  |[0.5651873229318354,0.4348126770681646] |0.0       |\n",
      "|High           |0.0  |[0.5651873229318354,0.4348126770681646] |0.0       |\n",
      "|High           |0.0  |[0.5651873229318354,0.4348126770681646] |0.0       |\n",
      "|High           |0.0  |[0.5651873229318354,0.4348126770681646] |0.0       |\n",
      "|High           |0.0  |[0.5651873229318354,0.4348126770681646] |0.0       |\n",
      "|High           |0.0  |[0.45475034719617013,0.5452496528038299]|1.0       |\n",
      "|High           |0.0  |[0.45475034719617013,0.5452496528038299]|1.0       |\n",
      "|High           |0.0  |[0.5651873229318354,0.4348126770681646] |0.0       |\n",
      "|High           |0.0  |[0.5651873229318354,0.4348126770681646] |0.0       |\n",
      "|High           |0.0  |[0.6390904796200949,0.36090952037990515]|0.0       |\n",
      "|High           |0.0  |[0.6390904796200949,0.36090952037990515]|0.0       |\n",
      "|High           |0.0  |[0.6034963684129192,0.3965036315870808] |0.0       |\n",
      "|High           |0.0  |[0.6390904796200949,0.36090952037990515]|0.0       |\n",
      "|High           |0.0  |[0.6034963684129192,0.3965036315870808] |0.0       |\n",
      "|High           |0.0  |[0.6390904796200949,0.36090952037990515]|0.0       |\n",
      "|High           |0.0  |[0.6034963684129192,0.3965036315870808] |0.0       |\n",
      "|High           |0.0  |[0.6034963684129192,0.3965036315870808] |0.0       |\n",
      "|High           |0.0  |[0.6390904796200949,0.36090952037990515]|0.0       |\n",
      "|High           |0.0  |[0.6034963684129192,0.3965036315870808] |0.0       |\n",
      "|High           |0.0  |[0.6034963684129192,0.3965036315870808] |0.0       |\n",
      "|High           |0.0  |[0.6390904796200949,0.36090952037990515]|0.0       |\n",
      "|High           |0.0  |[0.6390904796200949,0.36090952037990515]|0.0       |\n",
      "|High           |0.0  |[0.6034963684129192,0.3965036315870808] |0.0       |\n",
      "|High           |0.0  |[0.6390904796200949,0.36090952037990515]|0.0       |\n",
      "|High           |0.0  |[0.6390904796200949,0.36090952037990515]|0.0       |\n",
      "|High           |0.0  |[0.6390904796200949,0.36090952037990515]|0.0       |\n",
      "|High           |0.0  |[0.6390904796200949,0.36090952037990515]|0.0       |\n",
      "|High           |0.0  |[0.6034963684129192,0.3965036315870808] |0.0       |\n",
      "|High           |0.0  |[0.6390904796200949,0.36090952037990515]|0.0       |\n",
      "|High           |0.0  |[0.6390904796200949,0.36090952037990515]|0.0       |\n",
      "|High           |0.0  |[0.6390904796200949,0.36090952037990515]|0.0       |\n",
      "|High           |0.0  |[0.6034963684129192,0.3965036315870808] |0.0       |\n",
      "|High           |0.0  |[0.6034963684129192,0.3965036315870808] |0.0       |\n",
      "|High           |0.0  |[0.6034963684129192,0.3965036315870808] |0.0       |\n",
      "|High           |0.0  |[0.6390904796200949,0.36090952037990515]|0.0       |\n",
      "|High           |0.0  |[0.6034963684129192,0.3965036315870808] |0.0       |\n",
      "|High           |0.0  |[0.6390904796200949,0.36090952037990515]|0.0       |\n",
      "|High           |0.0  |[0.6034963684129192,0.3965036315870808] |0.0       |\n",
      "|High           |0.0  |[0.6390904796200949,0.36090952037990515]|0.0       |\n",
      "|High           |0.0  |[0.6034963684129192,0.3965036315870808] |0.0       |\n",
      "|High           |0.0  |[0.6390904796200949,0.36090952037990515]|0.0       |\n",
      "|High           |0.0  |[0.6390904796200949,0.36090952037990515]|0.0       |\n",
      "|High           |0.0  |[0.6034963684129192,0.3965036315870808] |0.0       |\n",
      "|High           |0.0  |[0.6390904796200949,0.36090952037990515]|0.0       |\n",
      "|High           |0.0  |[0.6034963684129192,0.3965036315870808] |0.0       |\n",
      "|High           |0.0  |[0.6034963684129192,0.3965036315870808] |0.0       |\n",
      "|High           |0.0  |[0.6034963684129192,0.3965036315870808] |0.0       |\n",
      "|High           |0.0  |[0.6390904796200949,0.36090952037990515]|0.0       |\n",
      "|High           |0.0  |[0.6034963684129192,0.3965036315870808] |0.0       |\n",
      "|High           |0.0  |[0.6390904796200949,0.36090952037990515]|0.0       |\n",
      "|High           |0.0  |[0.6390904796200949,0.36090952037990515]|0.0       |\n",
      "|High           |0.0  |[0.6390904796200949,0.36090952037990515]|0.0       |\n",
      "|High           |0.0  |[0.6034963684129192,0.3965036315870808] |0.0       |\n",
      "|High           |0.0  |[0.6390904796200949,0.36090952037990515]|0.0       |\n",
      "|High           |0.0  |[0.6034963684129192,0.3965036315870808] |0.0       |\n",
      "|High           |0.0  |[0.6034963684129192,0.3965036315870808] |0.0       |\n",
      "|High           |0.0  |[0.6034963684129192,0.3965036315870808] |0.0       |\n",
      "|High           |0.0  |[0.6390904796200949,0.36090952037990515]|0.0       |\n",
      "|High           |0.0  |[0.6390904796200949,0.36090952037990515]|0.0       |\n",
      "|High           |0.0  |[0.6390904796200949,0.36090952037990515]|0.0       |\n",
      "|High           |0.0  |[0.6390904796200949,0.36090952037990515]|0.0       |\n",
      "|High           |0.0  |[0.6390904796200949,0.36090952037990515]|0.0       |\n",
      "|High           |0.0  |[0.6390904796200949,0.36090952037990515]|0.0       |\n",
      "|High           |0.0  |[0.6034963684129192,0.3965036315870808] |0.0       |\n",
      "|High           |0.0  |[0.6390904796200949,0.36090952037990515]|0.0       |\n",
      "|High           |0.0  |[0.6034963684129192,0.3965036315870808] |0.0       |\n",
      "|High           |0.0  |[0.6034963684129192,0.3965036315870808] |0.0       |\n",
      "|High           |0.0  |[0.6034963684129192,0.3965036315870808] |0.0       |\n",
      "|High           |0.0  |[0.6390904796200949,0.36090952037990515]|0.0       |\n",
      "|High           |0.0  |[0.6390904796200949,0.36090952037990515]|0.0       |\n",
      "|High           |0.0  |[0.6390904796200949,0.36090952037990515]|0.0       |\n",
      "|High           |0.0  |[0.6390904796200949,0.36090952037990515]|0.0       |\n",
      "|High           |0.0  |[0.6390904796200949,0.36090952037990515]|0.0       |\n",
      "|High           |0.0  |[0.6390904796200949,0.36090952037990515]|0.0       |\n",
      "|High           |0.0  |[0.6390904796200949,0.36090952037990515]|0.0       |\n",
      "|High           |0.0  |[0.6390904796200949,0.36090952037990515]|0.0       |\n",
      "|High           |0.0  |[0.6390904796200949,0.36090952037990515]|0.0       |\n",
      "|High           |0.0  |[0.6390904796200949,0.36090952037990515]|0.0       |\n",
      "|High           |0.0  |[0.5251981024771657,0.47480189752283425]|0.0       |\n",
      "|High           |0.0  |[0.5251981024771657,0.47480189752283425]|0.0       |\n",
      "|High           |0.0  |[0.5251981024771657,0.47480189752283425]|0.0       |\n",
      "|High           |0.0  |[0.5251981024771657,0.47480189752283425]|0.0       |\n",
      "|High           |0.0  |[0.48691064680367063,0.5130893531963293]|1.0       |\n",
      "|High           |0.0  |[0.5651873229318354,0.4348126770681646] |0.0       |\n",
      "|High           |0.0  |[0.5251981024771657,0.47480189752283425]|0.0       |\n",
      "|High           |0.0  |[0.48691064680367063,0.5130893531963293]|1.0       |\n",
      "|High           |0.0  |[0.5651873229318354,0.4348126770681646] |0.0       |\n",
      "|High           |0.0  |[0.5651873229318354,0.4348126770681646] |0.0       |\n",
      "|High           |0.0  |[0.5651873229318354,0.4348126770681646] |0.0       |\n",
      "|High           |0.0  |[0.5251981024771657,0.47480189752283425]|0.0       |\n",
      "|High           |0.0  |[0.5251981024771657,0.47480189752283425]|0.0       |\n",
      "|High           |0.0  |[0.48691064680367063,0.5130893531963293]|1.0       |\n",
      "|High           |0.0  |[0.5251981024771657,0.47480189752283425]|0.0       |\n",
      "|High           |0.0  |[0.5651873229318354,0.4348126770681646] |0.0       |\n",
      "|High           |0.0  |[0.5651873229318354,0.4348126770681646] |0.0       |\n",
      "|High           |0.0  |[0.5651873229318354,0.4348126770681646] |0.0       |\n",
      "|High           |0.0  |[0.5651873229318354,0.4348126770681646] |0.0       |\n",
      "|High           |0.0  |[0.5651873229318354,0.4348126770681646] |0.0       |\n",
      "|High           |0.0  |[0.5651873229318354,0.4348126770681646] |0.0       |\n",
      "|High           |0.0  |[0.5251981024771657,0.47480189752283425]|0.0       |\n",
      "|High           |0.0  |[0.5651873229318354,0.4348126770681646] |0.0       |\n",
      "|High           |0.0  |[0.5251981024771657,0.47480189752283425]|0.0       |\n",
      "|High           |0.0  |[0.5251981024771657,0.47480189752283425]|0.0       |\n",
      "|High           |0.0  |[0.5651873229318354,0.4348126770681646] |0.0       |\n",
      "|High           |0.0  |[0.48691064680367063,0.5130893531963293]|1.0       |\n",
      "|High           |0.0  |[0.5651873229318354,0.4348126770681646] |0.0       |\n",
      "|High           |0.0  |[0.5651873229318354,0.4348126770681646] |0.0       |\n",
      "|High           |0.0  |[0.5651873229318354,0.4348126770681646] |0.0       |\n",
      "|High           |0.0  |[0.5251981024771657,0.47480189752283425]|0.0       |\n",
      "|High           |0.0  |[0.5651873229318354,0.4348126770681646] |0.0       |\n",
      "|High           |0.0  |[0.5651873229318354,0.4348126770681646] |0.0       |\n",
      "|High           |0.0  |[0.5651873229318354,0.4348126770681646] |0.0       |\n",
      "|High           |0.0  |[0.5651873229318354,0.4348126770681646] |0.0       |\n",
      "|High           |0.0  |[0.48691064680367063,0.5130893531963293]|1.0       |\n",
      "|High           |0.0  |[0.48691064680367063,0.5130893531963293]|1.0       |\n",
      "|High           |0.0  |[0.5651873229318354,0.4348126770681646] |0.0       |\n",
      "|High           |0.0  |[0.5251981024771657,0.47480189752283425]|0.0       |\n",
      "|High           |0.0  |[0.5651873229318354,0.4348126770681646] |0.0       |\n",
      "|High           |0.0  |[0.5651873229318354,0.4348126770681646] |0.0       |\n",
      "|High           |0.0  |[0.5651873229318354,0.4348126770681646] |0.0       |\n",
      "|High           |0.0  |[0.5651873229318354,0.4348126770681646] |0.0       |\n",
      "|High           |0.0  |[0.5651873229318354,0.4348126770681646] |0.0       |\n",
      "|High           |0.0  |[0.45475034719617013,0.5452496528038299]|1.0       |\n",
      "|High           |0.0  |[0.45475034719617013,0.5452496528038299]|1.0       |\n",
      "|High           |0.0  |[0.5651873229318354,0.4348126770681646] |0.0       |\n",
      "|High           |0.0  |[0.45475034719617013,0.5452496528038299]|1.0       |\n",
      "|High           |0.0  |[0.5651873229318354,0.4348126770681646] |0.0       |\n",
      "|High           |0.0  |[0.5651873229318354,0.4348126770681646] |0.0       |\n",
      "|High           |0.0  |[0.45475034719617013,0.5452496528038299]|1.0       |\n",
      "|High           |0.0  |[0.5651873229318354,0.4348126770681646] |0.0       |\n",
      "|High           |0.0  |[0.45475034719617013,0.5452496528038299]|1.0       |\n",
      "|High           |0.0  |[0.5651873229318354,0.4348126770681646] |0.0       |\n",
      "|High           |0.0  |[0.5651873229318354,0.4348126770681646] |0.0       |\n",
      "|High           |0.0  |[0.5651873229318354,0.4348126770681646] |0.0       |\n",
      "|High           |0.0  |[0.5651873229318354,0.4348126770681646] |0.0       |\n",
      "|High           |0.0  |[0.5651873229318354,0.4348126770681646] |0.0       |\n",
      "|High           |0.0  |[0.5651873229318354,0.4348126770681646] |0.0       |\n",
      "|High           |0.0  |[0.45475034719617013,0.5452496528038299]|1.0       |\n",
      "|High           |0.0  |[0.45475034719617013,0.5452496528038299]|1.0       |\n",
      "|High           |0.0  |[0.5651873229318354,0.4348126770681646] |0.0       |\n",
      "|High           |0.0  |[0.5651873229318354,0.4348126770681646] |0.0       |\n",
      "|High           |0.0  |[0.5651873229318354,0.4348126770681646] |0.0       |\n",
      "|High           |0.0  |[0.45475034719617013,0.5452496528038299]|1.0       |\n",
      "|High           |0.0  |[0.5651873229318354,0.4348126770681646] |0.0       |\n",
      "|High           |0.0  |[0.5651873229318354,0.4348126770681646] |0.0       |\n",
      "|High           |0.0  |[0.45475034719617013,0.5452496528038299]|1.0       |\n",
      "|High           |0.0  |[0.5651873229318354,0.4348126770681646] |0.0       |\n",
      "|High           |0.0  |[0.45475034719617013,0.5452496528038299]|1.0       |\n",
      "|High           |0.0  |[0.5651873229318354,0.4348126770681646] |0.0       |\n",
      "|High           |0.0  |[0.5651873229318354,0.4348126770681646] |0.0       |\n",
      "|High           |0.0  |[0.5651873229318354,0.4348126770681646] |0.0       |\n",
      "|High           |0.0  |[0.45475034719617013,0.5452496528038299]|1.0       |\n",
      "|High           |0.0  |[0.5651873229318354,0.4348126770681646] |0.0       |\n",
      "|High           |0.0  |[0.5651873229318354,0.4348126770681646] |0.0       |\n",
      "|High           |0.0  |[0.5651873229318354,0.4348126770681646] |0.0       |\n",
      "|High           |0.0  |[0.5651873229318354,0.4348126770681646] |0.0       |\n",
      "|High           |0.0  |[0.45475034719617013,0.5452496528038299]|1.0       |\n",
      "|High           |0.0  |[0.5651873229318354,0.4348126770681646] |0.0       |\n",
      "|High           |0.0  |[0.5651873229318354,0.4348126770681646] |0.0       |\n",
      "|High           |0.0  |[0.5651873229318354,0.4348126770681646] |0.0       |\n",
      "|High           |0.0  |[0.5651873229318354,0.4348126770681646] |0.0       |\n",
      "|High           |0.0  |[0.5651873229318354,0.4348126770681646] |0.0       |\n",
      "|High           |0.0  |[0.5651873229318354,0.4348126770681646] |0.0       |\n",
      "|High           |0.0  |[0.45475034719617013,0.5452496528038299]|1.0       |\n",
      "|High           |0.0  |[0.45475034719617013,0.5452496528038299]|1.0       |\n",
      "|High           |0.0  |[0.5651873229318354,0.4348126770681646] |0.0       |\n",
      "|High           |0.0  |[0.45475034719617013,0.5452496528038299]|1.0       |\n",
      "|High           |0.0  |[0.45475034719617013,0.5452496528038299]|1.0       |\n",
      "|High           |0.0  |[0.5651873229318354,0.4348126770681646] |0.0       |\n",
      "|High           |0.0  |[0.45475034719617013,0.5452496528038299]|1.0       |\n",
      "|High           |0.0  |[0.45475034719617013,0.5452496528038299]|1.0       |\n",
      "|High           |0.0  |[0.5651873229318354,0.4348126770681646] |0.0       |\n",
      "|High           |0.0  |[0.45475034719617013,0.5452496528038299]|1.0       |\n",
      "|High           |0.0  |[0.5651873229318354,0.4348126770681646] |0.0       |\n",
      "|High           |0.0  |[0.45475034719617013,0.5452496528038299]|1.0       |\n",
      "|High           |0.0  |[0.45475034719617013,0.5452496528038299]|1.0       |\n",
      "|High           |0.0  |[0.5651873229318354,0.4348126770681646] |0.0       |\n",
      "|High           |0.0  |[0.5651873229318354,0.4348126770681646] |0.0       |\n",
      "|High           |0.0  |[0.45475034719617013,0.5452496528038299]|1.0       |\n",
      "|High           |0.0  |[0.45475034719617013,0.5452496528038299]|1.0       |\n",
      "|High           |0.0  |[0.5651873229318354,0.4348126770681646] |0.0       |\n",
      "|High           |0.0  |[0.5651873229318354,0.4348126770681646] |0.0       |\n",
      "|High           |0.0  |[0.5651873229318354,0.4348126770681646] |0.0       |\n",
      "|High           |0.0  |[0.45475034719617013,0.5452496528038299]|1.0       |\n",
      "|High           |0.0  |[0.45475034719617013,0.5452496528038299]|1.0       |\n",
      "|High           |0.0  |[0.45475034719617013,0.5452496528038299]|1.0       |\n",
      "|High           |0.0  |[0.5651873229318354,0.4348126770681646] |0.0       |\n",
      "|High           |0.0  |[0.5651873229318354,0.4348126770681646] |0.0       |\n",
      "|High           |0.0  |[0.45475034719617013,0.5452496528038299]|1.0       |\n",
      "|High           |0.0  |[0.5651873229318354,0.4348126770681646] |0.0       |\n",
      "|High           |0.0  |[0.5651873229318354,0.4348126770681646] |0.0       |\n",
      "|High           |0.0  |[0.5651873229318354,0.4348126770681646] |0.0       |\n",
      "|High           |0.0  |[0.5651873229318354,0.4348126770681646] |0.0       |\n",
      "|High           |0.0  |[0.45475034719617013,0.5452496528038299]|1.0       |\n",
      "|High           |0.0  |[0.45475034719617013,0.5452496528038299]|1.0       |\n",
      "|High           |0.0  |[0.5651873229318354,0.4348126770681646] |0.0       |\n",
      "|High           |0.0  |[0.5651873229318354,0.4348126770681646] |0.0       |\n",
      "|High           |0.0  |[0.5651873229318354,0.4348126770681646] |0.0       |\n",
      "|High           |0.0  |[0.45475034719617013,0.5452496528038299]|1.0       |\n",
      "|High           |0.0  |[0.45475034719617013,0.5452496528038299]|1.0       |\n",
      "|High           |0.0  |[0.5651873229318354,0.4348126770681646] |0.0       |\n",
      "|High           |0.0  |[0.5651873229318354,0.4348126770681646] |0.0       |\n",
      "|High           |0.0  |[0.45475034719617013,0.5452496528038299]|1.0       |\n",
      "|High           |0.0  |[0.5651873229318354,0.4348126770681646] |0.0       |\n",
      "|High           |0.0  |[0.45475034719617013,0.5452496528038299]|1.0       |\n",
      "|High           |0.0  |[0.5651873229318354,0.4348126770681646] |0.0       |\n",
      "|High           |0.0  |[0.45475034719617013,0.5452496528038299]|1.0       |\n",
      "|High           |0.0  |[0.5651873229318354,0.4348126770681646] |0.0       |\n",
      "|High           |0.0  |[0.45475034719617013,0.5452496528038299]|1.0       |\n",
      "|High           |0.0  |[0.45475034719617013,0.5452496528038299]|1.0       |\n",
      "|High           |0.0  |[0.45475034719617013,0.5452496528038299]|1.0       |\n",
      "|High           |0.0  |[0.45475034719617013,0.5452496528038299]|1.0       |\n",
      "|High           |0.0  |[0.45475034719617013,0.5452496528038299]|1.0       |\n",
      "|High           |0.0  |[0.45475034719617013,0.5452496528038299]|1.0       |\n",
      "|High           |0.0  |[0.5651873229318354,0.4348126770681646] |0.0       |\n",
      "|High           |0.0  |[0.5651873229318354,0.4348126770681646] |0.0       |\n",
      "|High           |0.0  |[0.45475034719617013,0.5452496528038299]|1.0       |\n",
      "|High           |0.0  |[0.5651873229318354,0.4348126770681646] |0.0       |\n",
      "|High           |0.0  |[0.45475034719617013,0.5452496528038299]|1.0       |\n",
      "|High           |0.0  |[0.5651873229318354,0.4348126770681646] |0.0       |\n",
      "|High           |0.0  |[0.5651873229318354,0.4348126770681646] |0.0       |\n",
      "|High           |0.0  |[0.5651873229318354,0.4348126770681646] |0.0       |\n",
      "|High           |0.0  |[0.5651873229318354,0.4348126770681646] |0.0       |\n",
      "|High           |0.0  |[0.5651873229318354,0.4348126770681646] |0.0       |\n",
      "|High           |0.0  |[0.45475034719617013,0.5452496528038299]|1.0       |\n",
      "|High           |0.0  |[0.5651873229318354,0.4348126770681646] |0.0       |\n",
      "|High           |0.0  |[0.5651873229318354,0.4348126770681646] |0.0       |\n",
      "|High           |0.0  |[0.45475034719617013,0.5452496528038299]|1.0       |\n",
      "|High           |0.0  |[0.5651873229318354,0.4348126770681646] |0.0       |\n",
      "|High           |0.0  |[0.5651873229318354,0.4348126770681646] |0.0       |\n",
      "|High           |0.0  |[0.5651873229318354,0.4348126770681646] |0.0       |\n",
      "|High           |0.0  |[0.5651873229318354,0.4348126770681646] |0.0       |\n",
      "|High           |0.0  |[0.5651873229318354,0.4348126770681646] |0.0       |\n",
      "|High           |0.0  |[0.45475034719617013,0.5452496528038299]|1.0       |\n",
      "|High           |0.0  |[0.5651873229318354,0.4348126770681646] |0.0       |\n",
      "|High           |0.0  |[0.45475034719617013,0.5452496528038299]|1.0       |\n",
      "|High           |0.0  |[0.45475034719617013,0.5452496528038299]|1.0       |\n",
      "|High           |0.0  |[0.5651873229318354,0.4348126770681646] |0.0       |\n",
      "|High           |0.0  |[0.5651873229318354,0.4348126770681646] |0.0       |\n",
      "|High           |0.0  |[0.45475034719617013,0.5452496528038299]|1.0       |\n",
      "|High           |0.0  |[0.5651873229318354,0.4348126770681646] |0.0       |\n",
      "|High           |0.0  |[0.45475034719617013,0.5452496528038299]|1.0       |\n",
      "|High           |0.0  |[0.5651873229318354,0.4348126770681646] |0.0       |\n",
      "|High           |0.0  |[0.5651873229318354,0.4348126770681646] |0.0       |\n",
      "|High           |0.0  |[0.45475034719617013,0.5452496528038299]|1.0       |\n",
      "|High           |0.0  |[0.5651873229318354,0.4348126770681646] |0.0       |\n",
      "|High           |0.0  |[0.45475034719617013,0.5452496528038299]|1.0       |\n",
      "|High           |0.0  |[0.5651873229318354,0.4348126770681646] |0.0       |\n",
      "|High           |0.0  |[0.5651873229318354,0.4348126770681646] |0.0       |\n",
      "|High           |0.0  |[0.5651873229318354,0.4348126770681646] |0.0       |\n",
      "|High           |0.0  |[0.5651873229318354,0.4348126770681646] |0.0       |\n",
      "|High           |0.0  |[0.45475034719617013,0.5452496528038299]|1.0       |\n",
      "|High           |0.0  |[0.5651873229318354,0.4348126770681646] |0.0       |\n",
      "|High           |0.0  |[0.5651873229318354,0.4348126770681646] |0.0       |\n",
      "|High           |0.0  |[0.45475034719617013,0.5452496528038299]|1.0       |\n",
      "|High           |0.0  |[0.5651873229318354,0.4348126770681646] |0.0       |\n",
      "|High           |0.0  |[0.45475034719617013,0.5452496528038299]|1.0       |\n",
      "|High           |0.0  |[0.45475034719617013,0.5452496528038299]|1.0       |\n",
      "|High           |0.0  |[0.5651873229318354,0.4348126770681646] |0.0       |\n",
      "|High           |0.0  |[0.5651873229318354,0.4348126770681646] |0.0       |\n",
      "|High           |0.0  |[0.45475034719617013,0.5452496528038299]|1.0       |\n",
      "+---------------+-----+----------------------------------------+----------+\n",
      "only showing top 1000 rows\n",
      "\n"
     ]
    }
   ],
   "source": [
    "#only show those results with rating = 'High'\n",
    "prediction.select('rating_classify','label', 'probability','prediction').filter(\"rating_classify == 'High'\").show(n=1000, truncate=False)"
   ]
  },
  {
   "cell_type": "code",
   "execution_count": 40,
   "id": "63941f0f",
   "metadata": {},
   "outputs": [],
   "source": [
    "#stop and shutdown the spark session\n",
    "spark.stop()"
   ]
  },
  {
   "cell_type": "markdown",
   "id": "c3f00984",
   "metadata": {},
   "source": [
    "# K-Means Clustering Classification Model in pySpark"
   ]
  },
  {
   "cell_type": "code",
   "execution_count": 1,
   "id": "93eebbc2",
   "metadata": {},
   "outputs": [],
   "source": [
    "# set up the environment variables and and pyspark will be imported \n",
    "import findspark\n",
    "\n",
    "# tracking the computation time\n",
    "from datetime import datetime \n",
    "\n",
    "# VectorAssembler is a transformer that combines list of columns in a dataframe into a single vector column. \n",
    "from pyspark.ml.feature import VectorAssembler\n",
    "\n",
    "# StringIndexer provides transformer to convert string labels into numerical values\n",
    "from pyspark.ml.feature import StringIndexer\n",
    "\n",
    "# A Spark Pipeline is specified as a sequence of stages, and each stage is either a Transformer or an Estimator\n",
    "from pyspark.ml import Pipeline\n",
    "\n",
    "#importing ML library for k-means model\n",
    "from pyspark.ml.clustering import KMeans\n",
    "\n",
    "from pyspark.ml.evaluation import ClusteringEvaluator\n",
    "\n",
    "# evalaution ML library for various prediction model\n",
    "from pyspark.ml.evaluation import MulticlassClassificationEvaluator\n",
    "\n",
    "# Double data type, representing double precision floats.\n",
    "from pyspark.sql.types import DoubleType\n",
    "\n",
    "# The entry point to programming Spark with the Dataset and DataFrame API.\n",
    "from pyspark.sql import SparkSession\n",
    "\n",
    "\n",
    "#initilizing findspark.init function to locate the spark installed in the machine\n",
    "findspark.init('/Users/neha/Desktop/Studies Msc Data Analytics/Big Data/spark-3.1.2-bin-hadoop3.2')"
   ]
  },
  {
   "cell_type": "code",
   "execution_count": 2,
   "id": "42fbb371",
   "metadata": {},
   "outputs": [
    {
     "data": {
      "text/html": [
       "\n",
       "            <div>\n",
       "                <p><b>SparkSession - in-memory</b></p>\n",
       "                \n",
       "        <div>\n",
       "            <p><b>SparkContext</b></p>\n",
       "\n",
       "            <p><a href=\"http://nehas-air:4040\">Spark UI</a></p>\n",
       "\n",
       "            <dl>\n",
       "              <dt>Version</dt>\n",
       "                <dd><code>v3.1.2</code></dd>\n",
       "              <dt>Master</dt>\n",
       "                <dd><code>local[*]</code></dd>\n",
       "              <dt>AppName</dt>\n",
       "                <dd><code>SparkLab</code></dd>\n",
       "            </dl>\n",
       "        </div>\n",
       "        \n",
       "            </div>\n",
       "        "
      ],
      "text/plain": [
       "<pyspark.sql.session.SparkSession at 0x7fb5e94c4f70>"
      ]
     },
     "execution_count": 2,
     "metadata": {},
     "output_type": "execute_result"
    }
   ],
   "source": [
    "spark = SparkSession.builder.appName(\"SparkLab\").getOrCreate()#create the Spark Session\n",
    "spark"
   ]
  },
  {
   "cell_type": "code",
   "execution_count": 3,
   "id": "a5dc4720",
   "metadata": {},
   "outputs": [
    {
     "name": "stdout",
     "output_type": "stream",
     "text": [
      "time taken to create pySpark data frame: 0:00:10.421451\n"
     ]
    }
   ],
   "source": [
    "start = datetime.now()\n",
    "netflix = spark.read.csv('/Users/neha/Desktop/Studies Msc Data Analytics/Big Data/Netflix Big Data set/netflix_small.csv', sep=\",\", header=True, inferSchema=True)\n",
    "print('time taken to create pySpark data frame:', datetime.now() - start)"
   ]
  },
  {
   "cell_type": "code",
   "execution_count": 7,
   "id": "aacb06f6",
   "metadata": {
    "scrolled": true
   },
   "outputs": [
    {
     "data": {
      "text/plain": [
       "501679042"
      ]
     },
     "execution_count": 7,
     "metadata": {},
     "output_type": "execute_result"
    }
   ],
   "source": [
    "# pyspark code to know the size of the pyspark dtaframe in bytes\n",
    "spark._jsparkSession.sessionState().executePlan(netflix._jdf.queryExecution().logical()).optimizedPlan().stats().sizeInBytes()\n"
   ]
  },
  {
   "cell_type": "markdown",
   "id": "35a48117",
   "metadata": {},
   "source": [
    "we are going to feed K-means algorithm with 501.6 MB"
   ]
  },
  {
   "cell_type": "code",
   "execution_count": 12,
   "id": "5011bea1",
   "metadata": {},
   "outputs": [
    {
     "name": "stdout",
     "output_type": "stream",
     "text": [
      "time taken to split the dataframe is: 0:00:00.082676\n"
     ]
    }
   ],
   "source": [
    "#split the data set into training and test, e.g. 60% for training, 40% for testing\n",
    "start = datetime.now()\n",
    "\n",
    "[trainingData, testData] = netflix.randomSplit([0.6, 0.4])\n",
    "print('time taken to split the dataframe is:' ,datetime.now() - start)"
   ]
  },
  {
   "cell_type": "code",
   "execution_count": 13,
   "id": "b5c820bd",
   "metadata": {},
   "outputs": [
    {
     "data": {
      "text/plain": [
       "VectorAssembler_f385a7f1d9b7"
      ]
     },
     "execution_count": 13,
     "metadata": {},
     "output_type": "execute_result"
    }
   ],
   "source": [
    "#create a vector assembler to transform feature columns into vectors\n",
    "assembler = VectorAssembler(\n",
    "    inputCols = [\"movie_id\", \"user_id\", \"release_year\", \"rating_year\"],\n",
    "    outputCol = \"features\"\n",
    ")\n",
    "assembler "
   ]
  },
  {
   "cell_type": "code",
   "execution_count": 14,
   "id": "0d83274d",
   "metadata": {},
   "outputs": [],
   "source": [
    "#The VectorIndexer will automatically transform categorical attributes to numerical values\n",
    "\n",
    "#featureIndexer = VectorIndexer(inputCol=\"features\", outputCol=\"indexedFeatures\")#, maxCategories=20)\n",
    "#create string indexers that transform string label type into numerical value\n",
    "indexer = StringIndexer(inputCol=\"rating_classify\", outputCol=\"label\")"
   ]
  },
  {
   "cell_type": "code",
   "execution_count": 15,
   "id": "0c7e1b97",
   "metadata": {},
   "outputs": [],
   "source": [
    "#create a k-means clustering\n",
    "kmeans = KMeans().setK(2).setSeed(1)\n",
    "\n",
    "#create an ML pipeline in sequence of assembler -> indexer -> logistic regression\n",
    "pipeline = Pipeline(stages=[assembler, indexer, kmeans])"
   ]
  },
  {
   "cell_type": "code",
   "execution_count": 16,
   "id": "baecbe16",
   "metadata": {},
   "outputs": [
    {
     "name": "stdout",
     "output_type": "stream",
     "text": [
      "time taken to create the K-means model is: 0:02:04.199960\n"
     ]
    }
   ],
   "source": [
    "start = datetime.now()\n",
    "#train a logistic regression model using the pipeline and the training data\n",
    "model = pipeline.fit(trainingData)\n",
    "print('time taken to create the K-means model is:' ,datetime.now() - start)"
   ]
  },
  {
   "cell_type": "code",
   "execution_count": 17,
   "id": "61772ee6",
   "metadata": {},
   "outputs": [
    {
     "name": "stdout",
     "output_type": "stream",
     "text": [
      "+--------+-------+------+------------+-----------+---------------+--------------------+-----+----------+\n",
      "|movie_id|user_id|rating|release_year|rating_year|rating_classify|            features|label|prediction|\n",
      "+--------+-------+------+------------+-----------+---------------+--------------------+-----+----------+\n",
      "|       3|   4783|     4|        1997|       2003|           High|[3.0,4783.0,1997....|  1.0|         0|\n",
      "|       3|   6384|     3|        1997|       2003|            Low|[3.0,6384.0,1997....|  0.0|         0|\n",
      "|       3|   6689|     4|        1997|       2003|           High|[3.0,6689.0,1997....|  1.0|         0|\n",
      "|       3|  10996|     2|        1997|       2003|            Low|[3.0,10996.0,1997...|  0.0|         0|\n",
      "|       3|  21777|     3|        1997|       2003|            Low|[3.0,21777.0,1997...|  0.0|         0|\n",
      "|       3|  21983|     4|        1997|       2003|           High|[3.0,21983.0,1997...|  1.0|         0|\n",
      "|       3|  41947|     3|        1997|       2003|            Low|[3.0,41947.0,1997...|  0.0|         0|\n",
      "|       3|  47541|     3|        1997|       2003|            Low|[3.0,47541.0,1997...|  0.0|         0|\n",
      "|       3|  52540|     1|        1997|       2003|            Low|[3.0,52540.0,1997...|  0.0|         0|\n",
      "|       3|  77266|     2|        1997|       2003|            Low|[3.0,77266.0,1997...|  0.0|         0|\n",
      "|       3|  78931|     5|        1997|       2003|           High|[3.0,78931.0,1997...|  1.0|         0|\n",
      "|       3| 101554|     2|        1997|       2003|            Low|[3.0,101554.0,199...|  0.0|         0|\n",
      "|       3| 115108|     3|        1997|       2003|            Low|[3.0,115108.0,199...|  0.0|         0|\n",
      "|       3| 115267|     4|        1997|       2003|           High|[3.0,115267.0,199...|  1.0|         0|\n",
      "|       3| 115498|     3|        1997|       2003|            Low|[3.0,115498.0,199...|  0.0|         0|\n",
      "|       3| 133129|     4|        1997|       2003|           High|[3.0,133129.0,199...|  1.0|         0|\n",
      "|       3| 136160|     3|        1997|       2003|            Low|[3.0,136160.0,199...|  0.0|         0|\n",
      "|       3| 137602|     3|        1997|       2003|            Low|[3.0,137602.0,199...|  0.0|         0|\n",
      "|       3| 138034|     4|        1997|       2003|           High|[3.0,138034.0,199...|  1.0|         0|\n",
      "|       3| 157701|     4|        1997|       2003|           High|[3.0,157701.0,199...|  1.0|         0|\n",
      "+--------+-------+------+------------+-----------+---------------+--------------------+-----+----------+\n",
      "only showing top 20 rows\n",
      "\n"
     ]
    }
   ],
   "source": [
    "#test the classification model using the test data\n",
    "prediction = model.transform(testData)\n",
    "prediction.show()"
   ]
  },
  {
   "cell_type": "code",
   "execution_count": 22,
   "id": "1d9c8c0f",
   "metadata": {},
   "outputs": [
    {
     "name": "stdout",
     "output_type": "stream",
     "text": [
      "Classification Error is 49.99810630026562\n",
      "Accuracy of the K-means model is 50.00189369973438\n"
     ]
    }
   ],
   "source": [
    "# computing accuracy \n",
    "evaluator = MulticlassClassificationEvaluator(\n",
    "    labelCol = 'label', predictionCol = 'prediction', metricName='accuracy'\n",
    ")\n",
    "\n",
    "p = prediction.withColumn(\"prediction\", prediction[\"prediction\"].cast(\"double\"))\n",
    "\n",
    "accuracy = evaluator.evaluate(p)\n",
    "\n",
    "print(f\"Classification Error is {(1.0 - accuracy)*100}\")\n",
    "print(f\"Accuracy of the K-means model is {accuracy *100 }\")"
   ]
  },
  {
   "cell_type": "code",
   "execution_count": 23,
   "id": "d7accbef",
   "metadata": {},
   "outputs": [],
   "source": [
    "# stop and shutdown the spark session\n",
    "spark.stop()"
   ]
  },
  {
   "cell_type": "code",
   "execution_count": null,
   "id": "93e44190",
   "metadata": {},
   "outputs": [],
   "source": []
  },
  {
   "cell_type": "code",
   "execution_count": null,
   "id": "d712f31b",
   "metadata": {},
   "outputs": [],
   "source": []
  },
  {
   "cell_type": "code",
   "execution_count": null,
   "id": "28c21472",
   "metadata": {},
   "outputs": [],
   "source": []
  },
  {
   "cell_type": "code",
   "execution_count": null,
   "id": "18ca520e",
   "metadata": {},
   "outputs": [],
   "source": []
  },
  {
   "cell_type": "code",
   "execution_count": null,
   "id": "3dc4938b",
   "metadata": {},
   "outputs": [],
   "source": []
  },
  {
   "cell_type": "code",
   "execution_count": null,
   "id": "33863272",
   "metadata": {},
   "outputs": [],
   "source": []
  },
  {
   "cell_type": "code",
   "execution_count": null,
   "id": "d08a5b9e",
   "metadata": {},
   "outputs": [],
   "source": []
  },
  {
   "cell_type": "code",
   "execution_count": null,
   "id": "88979fd9",
   "metadata": {},
   "outputs": [],
   "source": []
  },
  {
   "cell_type": "code",
   "execution_count": null,
   "id": "bbed7f0e",
   "metadata": {},
   "outputs": [],
   "source": []
  }
 ],
 "metadata": {
  "kernelspec": {
   "display_name": "Python 3",
   "language": "python",
   "name": "python3"
  },
  "language_info": {
   "codemirror_mode": {
    "name": "ipython",
    "version": 3
   },
   "file_extension": ".py",
   "mimetype": "text/x-python",
   "name": "python",
   "nbconvert_exporter": "python",
   "pygments_lexer": "ipython3",
   "version": "3.8.8"
  }
 },
 "nbformat": 4,
 "nbformat_minor": 5
}
